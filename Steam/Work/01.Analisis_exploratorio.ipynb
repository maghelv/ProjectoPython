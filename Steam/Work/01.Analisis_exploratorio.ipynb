{
 "cells": [
  {
   "cell_type": "markdown",
   "metadata": {},
   "source": [
    "# Importartando la base de datos"
   ]
  },
  {
   "cell_type": "markdown",
   "metadata": {},
   "source": [
    "Durante este trabajo haremos un analisis exploratorio y limpieza de nuestro data set, a lo largo de notebook veremos varios\n",
    "metodos para limpiar nuestro dataset."
   ]
  },
  {
   "cell_type": "code",
   "execution_count": 90,
   "metadata": {},
   "outputs": [],
   "source": [
    "import pandas as pd"
   ]
  },
  {
   "cell_type": "markdown",
   "metadata": {},
   "source": [
    "Ahora abrimos nuestro dataset con \" .read_csv('') \""
   ]
  },
  {
   "cell_type": "code",
   "execution_count": 91,
   "metadata": {},
   "outputs": [
    {
     "data": {
      "text/html": [
       "<div>\n",
       "<style scoped>\n",
       "    .dataframe tbody tr th:only-of-type {\n",
       "        vertical-align: middle;\n",
       "    }\n",
       "\n",
       "    .dataframe tbody tr th {\n",
       "        vertical-align: top;\n",
       "    }\n",
       "\n",
       "    .dataframe thead th {\n",
       "        text-align: right;\n",
       "    }\n",
       "</style>\n",
       "<table border=\"1\" class=\"dataframe\">\n",
       "  <thead>\n",
       "    <tr style=\"text-align: right;\">\n",
       "      <th></th>\n",
       "      <th>title</th>\n",
       "      <th>description</th>\n",
       "      <th>price</th>\n",
       "      <th>salePercentage</th>\n",
       "      <th>recentReviews</th>\n",
       "      <th>allReviews</th>\n",
       "    </tr>\n",
       "  </thead>\n",
       "  <tbody>\n",
       "    <tr>\n",
       "      <th>0</th>\n",
       "      <td>Ori and the Will of the Wisps</td>\n",
       "      <td>Play the critically acclaimed masterpiece. Emb...</td>\n",
       "      <td>$9.89</td>\n",
       "      <td>-67%</td>\n",
       "      <td>Overwhelmingly Positive</td>\n",
       "      <td>Overwhelmingly Positive</td>\n",
       "    </tr>\n",
       "    <tr>\n",
       "      <th>1</th>\n",
       "      <td>Flashing Lights - Police, Firefighting, Emerge...</td>\n",
       "      <td>Play solo or in up to 10-player multiplayer co...</td>\n",
       "      <td>$8.49</td>\n",
       "      <td>-66%</td>\n",
       "      <td>Very Positive</td>\n",
       "      <td>Very Positive</td>\n",
       "    </tr>\n",
       "    <tr>\n",
       "      <th>2</th>\n",
       "      <td>Thronefall</td>\n",
       "      <td>A minimalist game about building and defending...</td>\n",
       "      <td>$5.24</td>\n",
       "      <td>-25%</td>\n",
       "      <td>Overwhelmingly Positive</td>\n",
       "      <td>Overwhelmingly Positive</td>\n",
       "    </tr>\n",
       "    <tr>\n",
       "      <th>3</th>\n",
       "      <td>DRAGON QUEST® XI S: Echoes of an Elusive Age™ ...</td>\n",
       "      <td>The Definitive Edition includes the critically...</td>\n",
       "      <td>$23.99</td>\n",
       "      <td>-40%</td>\n",
       "      <td>Very Positive</td>\n",
       "      <td>Very Positive</td>\n",
       "    </tr>\n",
       "    <tr>\n",
       "      <th>4</th>\n",
       "      <td>UNDYING</td>\n",
       "      <td>As Anling’s zombie infection sets in, her days...</td>\n",
       "      <td>$13.99</td>\n",
       "      <td>-30%</td>\n",
       "      <td>Mostly Positive</td>\n",
       "      <td>Mostly Positive</td>\n",
       "    </tr>\n",
       "    <tr>\n",
       "      <th>...</th>\n",
       "      <td>...</td>\n",
       "      <td>...</td>\n",
       "      <td>...</td>\n",
       "      <td>...</td>\n",
       "      <td>...</td>\n",
       "      <td>...</td>\n",
       "    </tr>\n",
       "    <tr>\n",
       "      <th>81</th>\n",
       "      <td>Bendy and the Dark Revival</td>\n",
       "      <td>Bendy and the Dark Revival® is a first-person ...</td>\n",
       "      <td>$5.99</td>\n",
       "      <td>-80%</td>\n",
       "      <td>Very Positive</td>\n",
       "      <td>Very Positive</td>\n",
       "    </tr>\n",
       "    <tr>\n",
       "      <th>82</th>\n",
       "      <td>STAR WARS™ - The Force Unleashed™ Ultimate Sit...</td>\n",
       "      <td>A game that will show gamers the deepest, dark...</td>\n",
       "      <td>$6.99</td>\n",
       "      <td>-65%</td>\n",
       "      <td>Very Positive</td>\n",
       "      <td>Very Positive</td>\n",
       "    </tr>\n",
       "    <tr>\n",
       "      <th>83</th>\n",
       "      <td>Thymesia</td>\n",
       "      <td>Thymesia is a gruelling action-RPG with fast-p...</td>\n",
       "      <td>$14.99</td>\n",
       "      <td>-40%</td>\n",
       "      <td>Very Positive</td>\n",
       "      <td>Very Positive</td>\n",
       "    </tr>\n",
       "    <tr>\n",
       "      <th>84</th>\n",
       "      <td>Last Train Home</td>\n",
       "      <td>The Great War is over - the fight continues. C...</td>\n",
       "      <td>$26.39</td>\n",
       "      <td>-34%</td>\n",
       "      <td>Very Positive</td>\n",
       "      <td>Very Positive</td>\n",
       "    </tr>\n",
       "    <tr>\n",
       "      <th>85</th>\n",
       "      <td>Fallout 76</td>\n",
       "      <td>Bethesda Game Studios welcome you to Fallout 7...</td>\n",
       "      <td>$9.99</td>\n",
       "      <td>-75%</td>\n",
       "      <td>Mostly Positive</td>\n",
       "      <td>Mostly Positive</td>\n",
       "    </tr>\n",
       "  </tbody>\n",
       "</table>\n",
       "<p>86 rows × 6 columns</p>\n",
       "</div>"
      ],
      "text/plain": [
       "                                                title  \\\n",
       "0                       Ori and the Will of the Wisps   \n",
       "1   Flashing Lights - Police, Firefighting, Emerge...   \n",
       "2                                          Thronefall   \n",
       "3   DRAGON QUEST® XI S: Echoes of an Elusive Age™ ...   \n",
       "4                                             UNDYING   \n",
       "..                                                ...   \n",
       "81                         Bendy and the Dark Revival   \n",
       "82  STAR WARS™ - The Force Unleashed™ Ultimate Sit...   \n",
       "83                                           Thymesia   \n",
       "84                                    Last Train Home   \n",
       "85                                         Fallout 76   \n",
       "\n",
       "                                          description   price salePercentage  \\\n",
       "0   Play the critically acclaimed masterpiece. Emb...   $9.89           -67%   \n",
       "1   Play solo or in up to 10-player multiplayer co...   $8.49           -66%   \n",
       "2   A minimalist game about building and defending...   $5.24           -25%   \n",
       "3   The Definitive Edition includes the critically...  $23.99           -40%   \n",
       "4   As Anling’s zombie infection sets in, her days...  $13.99           -30%   \n",
       "..                                                ...     ...            ...   \n",
       "81  Bendy and the Dark Revival® is a first-person ...   $5.99           -80%   \n",
       "82  A game that will show gamers the deepest, dark...   $6.99           -65%   \n",
       "83  Thymesia is a gruelling action-RPG with fast-p...  $14.99           -40%   \n",
       "84  The Great War is over - the fight continues. C...  $26.39           -34%   \n",
       "85  Bethesda Game Studios welcome you to Fallout 7...   $9.99           -75%   \n",
       "\n",
       "              recentReviews               allReviews  \n",
       "0   Overwhelmingly Positive  Overwhelmingly Positive  \n",
       "1             Very Positive            Very Positive  \n",
       "2   Overwhelmingly Positive  Overwhelmingly Positive  \n",
       "3             Very Positive            Very Positive  \n",
       "4           Mostly Positive          Mostly Positive  \n",
       "..                      ...                      ...  \n",
       "81            Very Positive            Very Positive  \n",
       "82            Very Positive            Very Positive  \n",
       "83            Very Positive            Very Positive  \n",
       "84            Very Positive            Very Positive  \n",
       "85          Mostly Positive          Mostly Positive  \n",
       "\n",
       "[86 rows x 6 columns]"
      ]
     },
     "execution_count": 91,
     "metadata": {},
     "output_type": "execute_result"
    }
   ],
   "source": [
    "df = pd.read_csv('../Datasets/steam.csv')\n",
    "df"
   ]
  },
  {
   "cell_type": "markdown",
   "metadata": {},
   "source": [
    "## Mostrando los primeros 5"
   ]
  },
  {
   "cell_type": "markdown",
   "metadata": {},
   "source": [
    "En este apartado mostraremos los 5 primeros datos de nuestro dataset"
   ]
  },
  {
   "cell_type": "code",
   "execution_count": 92,
   "metadata": {},
   "outputs": [
    {
     "data": {
      "text/html": [
       "<div>\n",
       "<style scoped>\n",
       "    .dataframe tbody tr th:only-of-type {\n",
       "        vertical-align: middle;\n",
       "    }\n",
       "\n",
       "    .dataframe tbody tr th {\n",
       "        vertical-align: top;\n",
       "    }\n",
       "\n",
       "    .dataframe thead th {\n",
       "        text-align: right;\n",
       "    }\n",
       "</style>\n",
       "<table border=\"1\" class=\"dataframe\">\n",
       "  <thead>\n",
       "    <tr style=\"text-align: right;\">\n",
       "      <th></th>\n",
       "      <th></th>\n",
       "      <th>description</th>\n",
       "      <th>salePercentage</th>\n",
       "      <th>recentReviews</th>\n",
       "      <th>allReviews</th>\n",
       "    </tr>\n",
       "    <tr>\n",
       "      <th>title</th>\n",
       "      <th>price</th>\n",
       "      <th></th>\n",
       "      <th></th>\n",
       "      <th></th>\n",
       "      <th></th>\n",
       "    </tr>\n",
       "  </thead>\n",
       "  <tbody>\n",
       "    <tr>\n",
       "      <th>Ori and the Will of the Wisps</th>\n",
       "      <th>$9.89</th>\n",
       "      <td>Play the critically acclaimed masterpiece. Emb...</td>\n",
       "      <td>-67%</td>\n",
       "      <td>Overwhelmingly Positive</td>\n",
       "      <td>Overwhelmingly Positive</td>\n",
       "    </tr>\n",
       "    <tr>\n",
       "      <th>Flashing Lights - Police, Firefighting, Emergency Services (EMS) Simulator</th>\n",
       "      <th>$8.49</th>\n",
       "      <td>Play solo or in up to 10-player multiplayer co...</td>\n",
       "      <td>-66%</td>\n",
       "      <td>Very Positive</td>\n",
       "      <td>Very Positive</td>\n",
       "    </tr>\n",
       "    <tr>\n",
       "      <th>Thronefall</th>\n",
       "      <th>$5.24</th>\n",
       "      <td>A minimalist game about building and defending...</td>\n",
       "      <td>-25%</td>\n",
       "      <td>Overwhelmingly Positive</td>\n",
       "      <td>Overwhelmingly Positive</td>\n",
       "    </tr>\n",
       "    <tr>\n",
       "      <th>DRAGON QUEST® XI S: Echoes of an Elusive Age™ - Definitive Edition</th>\n",
       "      <th>$23.99</th>\n",
       "      <td>The Definitive Edition includes the critically...</td>\n",
       "      <td>-40%</td>\n",
       "      <td>Very Positive</td>\n",
       "      <td>Very Positive</td>\n",
       "    </tr>\n",
       "    <tr>\n",
       "      <th>UNDYING</th>\n",
       "      <th>$13.99</th>\n",
       "      <td>As Anling’s zombie infection sets in, her days...</td>\n",
       "      <td>-30%</td>\n",
       "      <td>Mostly Positive</td>\n",
       "      <td>Mostly Positive</td>\n",
       "    </tr>\n",
       "  </tbody>\n",
       "</table>\n",
       "</div>"
      ],
      "text/plain": [
       "                                                                                                 description  \\\n",
       "title                                              price                                                       \n",
       "Ori and the Will of the Wisps                      $9.89   Play the critically acclaimed masterpiece. Emb...   \n",
       "Flashing Lights - Police, Firefighting, Emergen... $8.49   Play solo or in up to 10-player multiplayer co...   \n",
       "Thronefall                                         $5.24   A minimalist game about building and defending...   \n",
       "DRAGON QUEST® XI S: Echoes of an Elusive Age™ -... $23.99  The Definitive Edition includes the critically...   \n",
       "UNDYING                                            $13.99  As Anling’s zombie infection sets in, her days...   \n",
       "\n",
       "                                                          salePercentage  \\\n",
       "title                                              price                   \n",
       "Ori and the Will of the Wisps                      $9.89            -67%   \n",
       "Flashing Lights - Police, Firefighting, Emergen... $8.49            -66%   \n",
       "Thronefall                                         $5.24            -25%   \n",
       "DRAGON QUEST® XI S: Echoes of an Elusive Age™ -... $23.99           -40%   \n",
       "UNDYING                                            $13.99           -30%   \n",
       "\n",
       "                                                                     recentReviews  \\\n",
       "title                                              price                             \n",
       "Ori and the Will of the Wisps                      $9.89   Overwhelmingly Positive   \n",
       "Flashing Lights - Police, Firefighting, Emergen... $8.49             Very Positive   \n",
       "Thronefall                                         $5.24   Overwhelmingly Positive   \n",
       "DRAGON QUEST® XI S: Echoes of an Elusive Age™ -... $23.99            Very Positive   \n",
       "UNDYING                                            $13.99          Mostly Positive   \n",
       "\n",
       "                                                                        allReviews  \n",
       "title                                              price                            \n",
       "Ori and the Will of the Wisps                      $9.89   Overwhelmingly Positive  \n",
       "Flashing Lights - Police, Firefighting, Emergen... $8.49             Very Positive  \n",
       "Thronefall                                         $5.24   Overwhelmingly Positive  \n",
       "DRAGON QUEST® XI S: Echoes of an Elusive Age™ -... $23.99            Very Positive  \n",
       "UNDYING                                            $13.99          Mostly Positive  "
      ]
     },
     "execution_count": 92,
     "metadata": {},
     "output_type": "execute_result"
    }
   ],
   "source": [
    "df = pd.read_csv('../Datasets/steam.csv', index_col=[\"title\",\"price\"])\n",
    "df.head(5)"
   ]
  },
  {
   "cell_type": "markdown",
   "metadata": {},
   "source": [
    "## Mostrando los ultimos 5"
   ]
  },
  {
   "cell_type": "markdown",
   "metadata": {},
   "source": [
    "En este apartado mostraremos los ultimos 5 datos de nuestro dataset\n"
   ]
  },
  {
   "cell_type": "code",
   "execution_count": 93,
   "metadata": {},
   "outputs": [
    {
     "data": {
      "text/html": [
       "<div>\n",
       "<style scoped>\n",
       "    .dataframe tbody tr th:only-of-type {\n",
       "        vertical-align: middle;\n",
       "    }\n",
       "\n",
       "    .dataframe tbody tr th {\n",
       "        vertical-align: top;\n",
       "    }\n",
       "\n",
       "    .dataframe thead th {\n",
       "        text-align: right;\n",
       "    }\n",
       "</style>\n",
       "<table border=\"1\" class=\"dataframe\">\n",
       "  <thead>\n",
       "    <tr style=\"text-align: right;\">\n",
       "      <th></th>\n",
       "      <th></th>\n",
       "      <th>description</th>\n",
       "      <th>salePercentage</th>\n",
       "      <th>recentReviews</th>\n",
       "      <th>allReviews</th>\n",
       "    </tr>\n",
       "    <tr>\n",
       "      <th>title</th>\n",
       "      <th>price</th>\n",
       "      <th></th>\n",
       "      <th></th>\n",
       "      <th></th>\n",
       "      <th></th>\n",
       "    </tr>\n",
       "  </thead>\n",
       "  <tbody>\n",
       "    <tr>\n",
       "      <th>Bendy and the Dark Revival</th>\n",
       "      <th>$5.99</th>\n",
       "      <td>Bendy and the Dark Revival® is a first-person ...</td>\n",
       "      <td>-80%</td>\n",
       "      <td>Very Positive</td>\n",
       "      <td>Very Positive</td>\n",
       "    </tr>\n",
       "    <tr>\n",
       "      <th>STAR WARS™ - The Force Unleashed™ Ultimate Sith Edition</th>\n",
       "      <th>$6.99</th>\n",
       "      <td>A game that will show gamers the deepest, dark...</td>\n",
       "      <td>-65%</td>\n",
       "      <td>Very Positive</td>\n",
       "      <td>Very Positive</td>\n",
       "    </tr>\n",
       "    <tr>\n",
       "      <th>Thymesia</th>\n",
       "      <th>$14.99</th>\n",
       "      <td>Thymesia is a gruelling action-RPG with fast-p...</td>\n",
       "      <td>-40%</td>\n",
       "      <td>Very Positive</td>\n",
       "      <td>Very Positive</td>\n",
       "    </tr>\n",
       "    <tr>\n",
       "      <th>Last Train Home</th>\n",
       "      <th>$26.39</th>\n",
       "      <td>The Great War is over - the fight continues. C...</td>\n",
       "      <td>-34%</td>\n",
       "      <td>Very Positive</td>\n",
       "      <td>Very Positive</td>\n",
       "    </tr>\n",
       "    <tr>\n",
       "      <th>Fallout 76</th>\n",
       "      <th>$9.99</th>\n",
       "      <td>Bethesda Game Studios welcome you to Fallout 7...</td>\n",
       "      <td>-75%</td>\n",
       "      <td>Mostly Positive</td>\n",
       "      <td>Mostly Positive</td>\n",
       "    </tr>\n",
       "  </tbody>\n",
       "</table>\n",
       "</div>"
      ],
      "text/plain": [
       "                                                                                                 description  \\\n",
       "title                                              price                                                       \n",
       "Bendy and the Dark Revival                         $5.99   Bendy and the Dark Revival® is a first-person ...   \n",
       "STAR WARS™ - The Force Unleashed™ Ultimate Sith... $6.99   A game that will show gamers the deepest, dark...   \n",
       "Thymesia                                           $14.99  Thymesia is a gruelling action-RPG with fast-p...   \n",
       "Last Train Home                                    $26.39  The Great War is over - the fight continues. C...   \n",
       "Fallout 76                                         $9.99   Bethesda Game Studios welcome you to Fallout 7...   \n",
       "\n",
       "                                                          salePercentage  \\\n",
       "title                                              price                   \n",
       "Bendy and the Dark Revival                         $5.99            -80%   \n",
       "STAR WARS™ - The Force Unleashed™ Ultimate Sith... $6.99            -65%   \n",
       "Thymesia                                           $14.99           -40%   \n",
       "Last Train Home                                    $26.39           -34%   \n",
       "Fallout 76                                         $9.99            -75%   \n",
       "\n",
       "                                                             recentReviews  \\\n",
       "title                                              price                     \n",
       "Bendy and the Dark Revival                         $5.99     Very Positive   \n",
       "STAR WARS™ - The Force Unleashed™ Ultimate Sith... $6.99     Very Positive   \n",
       "Thymesia                                           $14.99    Very Positive   \n",
       "Last Train Home                                    $26.39    Very Positive   \n",
       "Fallout 76                                         $9.99   Mostly Positive   \n",
       "\n",
       "                                                                allReviews  \n",
       "title                                              price                    \n",
       "Bendy and the Dark Revival                         $5.99     Very Positive  \n",
       "STAR WARS™ - The Force Unleashed™ Ultimate Sith... $6.99     Very Positive  \n",
       "Thymesia                                           $14.99    Very Positive  \n",
       "Last Train Home                                    $26.39    Very Positive  \n",
       "Fallout 76                                         $9.99   Mostly Positive  "
      ]
     },
     "execution_count": 93,
     "metadata": {},
     "output_type": "execute_result"
    }
   ],
   "source": [
    "df.tail(5)"
   ]
  },
  {
   "cell_type": "markdown",
   "metadata": {},
   "source": [
    "## Tipos de Datos"
   ]
  },
  {
   "cell_type": "markdown",
   "metadata": {},
   "source": [
    "A continuacion con dtypes, podremos ver el tipo de datos que estan almacenados en el dataset"
   ]
  },
  {
   "cell_type": "code",
   "execution_count": 94,
   "metadata": {},
   "outputs": [
    {
     "data": {
      "text/plain": [
       "description       object\n",
       "salePercentage    object\n",
       "recentReviews     object\n",
       "allReviews        object\n",
       "dtype: object"
      ]
     },
     "execution_count": 94,
     "metadata": {},
     "output_type": "execute_result"
    }
   ],
   "source": [
    "df.dtypes"
   ]
  },
  {
   "cell_type": "markdown",
   "metadata": {},
   "source": [
    "## Columnas y Informacion"
   ]
  },
  {
   "cell_type": "markdown",
   "metadata": {},
   "source": [
    "En este apartado mostraremos las columnas que estan en el dataset"
   ]
  },
  {
   "cell_type": "code",
   "execution_count": 95,
   "metadata": {},
   "outputs": [
    {
     "data": {
      "text/plain": [
       "Index(['description', 'salePercentage', 'recentReviews', 'allReviews'], dtype='object')"
      ]
     },
     "execution_count": 95,
     "metadata": {},
     "output_type": "execute_result"
    }
   ],
   "source": [
    "df.columns"
   ]
  },
  {
   "cell_type": "markdown",
   "metadata": {},
   "source": [
    "## Descripcion de los Datos"
   ]
  },
  {
   "cell_type": "markdown",
   "metadata": {},
   "source": [
    "Usando el \" describe \" podremos ver la descripcion que tiene el dataset"
   ]
  },
  {
   "cell_type": "code",
   "execution_count": 96,
   "metadata": {},
   "outputs": [
    {
     "data": {
      "text/plain": [
       "<bound method NDFrame.describe of                                                                                                  description  \\\n",
       "title                                              price                                                       \n",
       "Ori and the Will of the Wisps                      $9.89   Play the critically acclaimed masterpiece. Emb...   \n",
       "Flashing Lights - Police, Firefighting, Emergen... $8.49   Play solo or in up to 10-player multiplayer co...   \n",
       "Thronefall                                         $5.24   A minimalist game about building and defending...   \n",
       "DRAGON QUEST® XI S: Echoes of an Elusive Age™ -... $23.99  The Definitive Edition includes the critically...   \n",
       "UNDYING                                            $13.99  As Anling’s zombie infection sets in, her days...   \n",
       "...                                                                                                      ...   \n",
       "Bendy and the Dark Revival                         $5.99   Bendy and the Dark Revival® is a first-person ...   \n",
       "STAR WARS™ - The Force Unleashed™ Ultimate Sith... $6.99   A game that will show gamers the deepest, dark...   \n",
       "Thymesia                                           $14.99  Thymesia is a gruelling action-RPG with fast-p...   \n",
       "Last Train Home                                    $26.39  The Great War is over - the fight continues. C...   \n",
       "Fallout 76                                         $9.99   Bethesda Game Studios welcome you to Fallout 7...   \n",
       "\n",
       "                                                          salePercentage  \\\n",
       "title                                              price                   \n",
       "Ori and the Will of the Wisps                      $9.89            -67%   \n",
       "Flashing Lights - Police, Firefighting, Emergen... $8.49            -66%   \n",
       "Thronefall                                         $5.24            -25%   \n",
       "DRAGON QUEST® XI S: Echoes of an Elusive Age™ -... $23.99           -40%   \n",
       "UNDYING                                            $13.99           -30%   \n",
       "...                                                                  ...   \n",
       "Bendy and the Dark Revival                         $5.99            -80%   \n",
       "STAR WARS™ - The Force Unleashed™ Ultimate Sith... $6.99            -65%   \n",
       "Thymesia                                           $14.99           -40%   \n",
       "Last Train Home                                    $26.39           -34%   \n",
       "Fallout 76                                         $9.99            -75%   \n",
       "\n",
       "                                                                     recentReviews  \\\n",
       "title                                              price                             \n",
       "Ori and the Will of the Wisps                      $9.89   Overwhelmingly Positive   \n",
       "Flashing Lights - Police, Firefighting, Emergen... $8.49             Very Positive   \n",
       "Thronefall                                         $5.24   Overwhelmingly Positive   \n",
       "DRAGON QUEST® XI S: Echoes of an Elusive Age™ -... $23.99            Very Positive   \n",
       "UNDYING                                            $13.99          Mostly Positive   \n",
       "...                                                                            ...   \n",
       "Bendy and the Dark Revival                         $5.99             Very Positive   \n",
       "STAR WARS™ - The Force Unleashed™ Ultimate Sith... $6.99             Very Positive   \n",
       "Thymesia                                           $14.99            Very Positive   \n",
       "Last Train Home                                    $26.39            Very Positive   \n",
       "Fallout 76                                         $9.99           Mostly Positive   \n",
       "\n",
       "                                                                        allReviews  \n",
       "title                                              price                            \n",
       "Ori and the Will of the Wisps                      $9.89   Overwhelmingly Positive  \n",
       "Flashing Lights - Police, Firefighting, Emergen... $8.49             Very Positive  \n",
       "Thronefall                                         $5.24   Overwhelmingly Positive  \n",
       "DRAGON QUEST® XI S: Echoes of an Elusive Age™ -... $23.99            Very Positive  \n",
       "UNDYING                                            $13.99          Mostly Positive  \n",
       "...                                                                            ...  \n",
       "Bendy and the Dark Revival                         $5.99             Very Positive  \n",
       "STAR WARS™ - The Force Unleashed™ Ultimate Sith... $6.99             Very Positive  \n",
       "Thymesia                                           $14.99            Very Positive  \n",
       "Last Train Home                                    $26.39            Very Positive  \n",
       "Fallout 76                                         $9.99           Mostly Positive  \n",
       "\n",
       "[86 rows x 4 columns]>"
      ]
     },
     "execution_count": 96,
     "metadata": {},
     "output_type": "execute_result"
    }
   ],
   "source": [
    "df.describe"
   ]
  },
  {
   "cell_type": "markdown",
   "metadata": {},
   "source": [
    "## Informacion del Dataset"
   ]
  },
  {
   "cell_type": "markdown",
   "metadata": {},
   "source": [
    "En este apartado con el .info podremos ver la informacion del dataset"
   ]
  },
  {
   "cell_type": "code",
   "execution_count": 97,
   "metadata": {},
   "outputs": [
    {
     "data": {
      "text/plain": [
       "<bound method DataFrame.info of                                                                                                  description  \\\n",
       "title                                              price                                                       \n",
       "Ori and the Will of the Wisps                      $9.89   Play the critically acclaimed masterpiece. Emb...   \n",
       "Flashing Lights - Police, Firefighting, Emergen... $8.49   Play solo or in up to 10-player multiplayer co...   \n",
       "Thronefall                                         $5.24   A minimalist game about building and defending...   \n",
       "DRAGON QUEST® XI S: Echoes of an Elusive Age™ -... $23.99  The Definitive Edition includes the critically...   \n",
       "UNDYING                                            $13.99  As Anling’s zombie infection sets in, her days...   \n",
       "...                                                                                                      ...   \n",
       "Bendy and the Dark Revival                         $5.99   Bendy and the Dark Revival® is a first-person ...   \n",
       "STAR WARS™ - The Force Unleashed™ Ultimate Sith... $6.99   A game that will show gamers the deepest, dark...   \n",
       "Thymesia                                           $14.99  Thymesia is a gruelling action-RPG with fast-p...   \n",
       "Last Train Home                                    $26.39  The Great War is over - the fight continues. C...   \n",
       "Fallout 76                                         $9.99   Bethesda Game Studios welcome you to Fallout 7...   \n",
       "\n",
       "                                                          salePercentage  \\\n",
       "title                                              price                   \n",
       "Ori and the Will of the Wisps                      $9.89            -67%   \n",
       "Flashing Lights - Police, Firefighting, Emergen... $8.49            -66%   \n",
       "Thronefall                                         $5.24            -25%   \n",
       "DRAGON QUEST® XI S: Echoes of an Elusive Age™ -... $23.99           -40%   \n",
       "UNDYING                                            $13.99           -30%   \n",
       "...                                                                  ...   \n",
       "Bendy and the Dark Revival                         $5.99            -80%   \n",
       "STAR WARS™ - The Force Unleashed™ Ultimate Sith... $6.99            -65%   \n",
       "Thymesia                                           $14.99           -40%   \n",
       "Last Train Home                                    $26.39           -34%   \n",
       "Fallout 76                                         $9.99            -75%   \n",
       "\n",
       "                                                                     recentReviews  \\\n",
       "title                                              price                             \n",
       "Ori and the Will of the Wisps                      $9.89   Overwhelmingly Positive   \n",
       "Flashing Lights - Police, Firefighting, Emergen... $8.49             Very Positive   \n",
       "Thronefall                                         $5.24   Overwhelmingly Positive   \n",
       "DRAGON QUEST® XI S: Echoes of an Elusive Age™ -... $23.99            Very Positive   \n",
       "UNDYING                                            $13.99          Mostly Positive   \n",
       "...                                                                            ...   \n",
       "Bendy and the Dark Revival                         $5.99             Very Positive   \n",
       "STAR WARS™ - The Force Unleashed™ Ultimate Sith... $6.99             Very Positive   \n",
       "Thymesia                                           $14.99            Very Positive   \n",
       "Last Train Home                                    $26.39            Very Positive   \n",
       "Fallout 76                                         $9.99           Mostly Positive   \n",
       "\n",
       "                                                                        allReviews  \n",
       "title                                              price                            \n",
       "Ori and the Will of the Wisps                      $9.89   Overwhelmingly Positive  \n",
       "Flashing Lights - Police, Firefighting, Emergen... $8.49             Very Positive  \n",
       "Thronefall                                         $5.24   Overwhelmingly Positive  \n",
       "DRAGON QUEST® XI S: Echoes of an Elusive Age™ -... $23.99            Very Positive  \n",
       "UNDYING                                            $13.99          Mostly Positive  \n",
       "...                                                                            ...  \n",
       "Bendy and the Dark Revival                         $5.99             Very Positive  \n",
       "STAR WARS™ - The Force Unleashed™ Ultimate Sith... $6.99             Very Positive  \n",
       "Thymesia                                           $14.99            Very Positive  \n",
       "Last Train Home                                    $26.39            Very Positive  \n",
       "Fallout 76                                         $9.99           Mostly Positive  \n",
       "\n",
       "[86 rows x 4 columns]>"
      ]
     },
     "execution_count": 97,
     "metadata": {},
     "output_type": "execute_result"
    }
   ],
   "source": [
    "df.info"
   ]
  },
  {
   "cell_type": "markdown",
   "metadata": {},
   "source": [
    "## Tamaño de conjuntos"
   ]
  },
  {
   "cell_type": "markdown",
   "metadata": {},
   "source": [
    "Con el .shape, veremos el tamaño de los conjuntos de los datos almacenados en el dataset"
   ]
  },
  {
   "cell_type": "code",
   "execution_count": 98,
   "metadata": {},
   "outputs": [
    {
     "data": {
      "text/plain": [
       "(86, 4)"
      ]
     },
     "execution_count": 98,
     "metadata": {},
     "output_type": "execute_result"
    }
   ],
   "source": [
    "df.shape"
   ]
  },
  {
   "cell_type": "markdown",
   "metadata": {},
   "source": [
    "## Visualizando los NaN que contiene el Dataset"
   ]
  },
  {
   "cell_type": "markdown",
   "metadata": {},
   "source": [
    "Con .isna().sum() Podremos visualizar los nans que estan en el data set"
   ]
  },
  {
   "cell_type": "code",
   "execution_count": 99,
   "metadata": {},
   "outputs": [],
   "source": [
    "import numpy as np\n",
    "import pandas as pd"
   ]
  },
  {
   "cell_type": "code",
   "execution_count": 100,
   "metadata": {},
   "outputs": [
    {
     "data": {
      "text/plain": [
       "description        4\n",
       "salePercentage    27\n",
       "recentReviews     29\n",
       "allReviews        29\n",
       "dtype: int64"
      ]
     },
     "execution_count": 100,
     "metadata": {},
     "output_type": "execute_result"
    }
   ],
   "source": [
    "df.isna().sum()"
   ]
  },
  {
   "cell_type": "markdown",
   "metadata": {},
   "source": [
    "## Remplazar simbolos"
   ]
  },
  {
   "cell_type": "markdown",
   "metadata": {},
   "source": [
    "En este apartado veremos el siguiente comando que sera capaz de remplazar cualquier simbolo en el dataset, en este caso para eliminarlo y o cambiarlo por otro."
   ]
  },
  {
   "cell_type": "code",
   "execution_count": null,
   "metadata": {},
   "outputs": [],
   "source": [
    "df['price'] =df['price'].str.replace('$',' ').astype(float)"
   ]
  },
  {
   "cell_type": "code",
   "execution_count": null,
   "metadata": {},
   "outputs": [
    {
     "data": {
      "text/plain": [
       "title              object\n",
       "description        object\n",
       "price             float64\n",
       "salePercentage     object\n",
       "recentReviews      object\n",
       "allReviews         object\n",
       "dtype: object"
      ]
     },
     "execution_count": 15,
     "metadata": {},
     "output_type": "execute_result"
    }
   ],
   "source": [
    "df.dtypes"
   ]
  },
  {
   "cell_type": "markdown",
   "metadata": {},
   "source": [
    "## Eliminar los NaNs"
   ]
  },
  {
   "cell_type": "markdown",
   "metadata": {},
   "source": [
    "En este apartado veremos como eliminar los nans de nuestro dataset, a continuacion veremos la visualizacion para saber cuantos nans tenemos y tenemos que eliminar"
   ]
  },
  {
   "cell_type": "code",
   "execution_count": null,
   "metadata": {},
   "outputs": [],
   "source": [
    "df_limpio = df.copy()"
   ]
  },
  {
   "cell_type": "code",
   "execution_count": null,
   "metadata": {},
   "outputs": [
    {
     "data": {
      "text/plain": [
       "title              0\n",
       "description        4\n",
       "price             25\n",
       "salePercentage    27\n",
       "recentReviews     29\n",
       "allReviews        29\n",
       "dtype: int64"
      ]
     },
     "execution_count": 87,
     "metadata": {},
     "output_type": "execute_result"
    }
   ],
   "source": [
    "df_limpio.isna().sum()"
   ]
  },
  {
   "cell_type": "markdown",
   "metadata": {},
   "source": [
    "En este apartado eliminaremos los nans del dataset, usando un .dropna"
   ]
  },
  {
   "cell_type": "code",
   "execution_count": 108,
   "metadata": {},
   "outputs": [],
   "source": [
    "df_nuevo = df_limpio.dropna(how='any', axis=0)"
   ]
  },
  {
   "cell_type": "code",
   "execution_count": 109,
   "metadata": {},
   "outputs": [
    {
     "data": {
      "text/plain": [
       "title             0\n",
       "description       0\n",
       "price             0\n",
       "salePercentage    0\n",
       "recentReviews     0\n",
       "allReviews        0\n",
       "dtype: int64"
      ]
     },
     "execution_count": 109,
     "metadata": {},
     "output_type": "execute_result"
    }
   ],
   "source": [
    "df_nuevo.isna().sum()"
   ]
  },
  {
   "cell_type": "markdown",
   "metadata": {},
   "source": [
    "En este apartado se como el data set ya limpio de nans"
   ]
  },
  {
   "cell_type": "code",
   "execution_count": 111,
   "metadata": {},
   "outputs": [
    {
     "data": {
      "text/html": [
       "<div>\n",
       "<style scoped>\n",
       "    .dataframe tbody tr th:only-of-type {\n",
       "        vertical-align: middle;\n",
       "    }\n",
       "\n",
       "    .dataframe tbody tr th {\n",
       "        vertical-align: top;\n",
       "    }\n",
       "\n",
       "    .dataframe thead th {\n",
       "        text-align: right;\n",
       "    }\n",
       "</style>\n",
       "<table border=\"1\" class=\"dataframe\">\n",
       "  <thead>\n",
       "    <tr style=\"text-align: right;\">\n",
       "      <th></th>\n",
       "      <th>title</th>\n",
       "      <th>description</th>\n",
       "      <th>price</th>\n",
       "      <th>salePercentage</th>\n",
       "      <th>recentReviews</th>\n",
       "      <th>allReviews</th>\n",
       "    </tr>\n",
       "  </thead>\n",
       "  <tbody>\n",
       "    <tr>\n",
       "      <th>0</th>\n",
       "      <td>Ori and the Will of the Wisps</td>\n",
       "      <td>Play the critically acclaimed masterpiece. Emb...</td>\n",
       "      <td>9.89</td>\n",
       "      <td>-67%</td>\n",
       "      <td>Overwhelmingly Positive</td>\n",
       "      <td>Overwhelmingly Positive</td>\n",
       "    </tr>\n",
       "    <tr>\n",
       "      <th>1</th>\n",
       "      <td>Flashing Lights - Police, Firefighting, Emerge...</td>\n",
       "      <td>Play solo or in up to 10-player multiplayer co...</td>\n",
       "      <td>8.49</td>\n",
       "      <td>-66%</td>\n",
       "      <td>Very Positive</td>\n",
       "      <td>Very Positive</td>\n",
       "    </tr>\n",
       "    <tr>\n",
       "      <th>2</th>\n",
       "      <td>Thronefall</td>\n",
       "      <td>A minimalist game about building and defending...</td>\n",
       "      <td>5.24</td>\n",
       "      <td>-25%</td>\n",
       "      <td>Overwhelmingly Positive</td>\n",
       "      <td>Overwhelmingly Positive</td>\n",
       "    </tr>\n",
       "    <tr>\n",
       "      <th>3</th>\n",
       "      <td>DRAGON QUEST® XI S: Echoes of an Elusive Age™ ...</td>\n",
       "      <td>The Definitive Edition includes the critically...</td>\n",
       "      <td>23.99</td>\n",
       "      <td>-40%</td>\n",
       "      <td>Very Positive</td>\n",
       "      <td>Very Positive</td>\n",
       "    </tr>\n",
       "    <tr>\n",
       "      <th>4</th>\n",
       "      <td>UNDYING</td>\n",
       "      <td>As Anling’s zombie infection sets in, her days...</td>\n",
       "      <td>13.99</td>\n",
       "      <td>-30%</td>\n",
       "      <td>Mostly Positive</td>\n",
       "      <td>Mostly Positive</td>\n",
       "    </tr>\n",
       "    <tr>\n",
       "      <th>5</th>\n",
       "      <td>Headbangers: Rhythm Royale</td>\n",
       "      <td>Headbangers is a light-hearted, Rhythm Battle ...</td>\n",
       "      <td>13.39</td>\n",
       "      <td>-33%</td>\n",
       "      <td>Very Positive</td>\n",
       "      <td>Very Positive</td>\n",
       "    </tr>\n",
       "    <tr>\n",
       "      <th>6</th>\n",
       "      <td>Bendy and the Dark Revival</td>\n",
       "      <td>Bendy and the Dark Revival® is a first-person ...</td>\n",
       "      <td>5.99</td>\n",
       "      <td>-80%</td>\n",
       "      <td>Very Positive</td>\n",
       "      <td>Very Positive</td>\n",
       "    </tr>\n",
       "    <tr>\n",
       "      <th>7</th>\n",
       "      <td>CARRION</td>\n",
       "      <td>CARRION is a reverse horror game in which you ...</td>\n",
       "      <td>5.99</td>\n",
       "      <td>-70%</td>\n",
       "      <td>Very Positive</td>\n",
       "      <td>Very Positive</td>\n",
       "    </tr>\n",
       "    <tr>\n",
       "      <th>8</th>\n",
       "      <td>Thymesia</td>\n",
       "      <td>Thymesia is a gruelling action-RPG with fast-p...</td>\n",
       "      <td>14.99</td>\n",
       "      <td>-40%</td>\n",
       "      <td>Very Positive</td>\n",
       "      <td>Very Positive</td>\n",
       "    </tr>\n",
       "    <tr>\n",
       "      <th>9</th>\n",
       "      <td>Boxes: Lost Fragments</td>\n",
       "      <td>As a legendary thief, your next assignment lur...</td>\n",
       "      <td>13.49</td>\n",
       "      <td>-10%</td>\n",
       "      <td>Very Positive</td>\n",
       "      <td>Very Positive</td>\n",
       "    </tr>\n",
       "    <tr>\n",
       "      <th>10</th>\n",
       "      <td>HELLCARD</td>\n",
       "      <td>Hellcard is a unique cooperative deck builder ...</td>\n",
       "      <td>15.79</td>\n",
       "      <td>-21%</td>\n",
       "      <td>Very Positive</td>\n",
       "      <td>Very Positive</td>\n",
       "    </tr>\n",
       "    <tr>\n",
       "      <th>11</th>\n",
       "      <td>Moonbreaker</td>\n",
       "      <td>Moonbreaker is a turn-based strategy, tactical...</td>\n",
       "      <td>22.49</td>\n",
       "      <td>-25%</td>\n",
       "      <td>Very Positive</td>\n",
       "      <td>Very Positive</td>\n",
       "    </tr>\n",
       "    <tr>\n",
       "      <th>12</th>\n",
       "      <td>BlazBlue Entropy Effect</td>\n",
       "      <td>Artistic and Magnificent Combat Action, incred...</td>\n",
       "      <td>17.15</td>\n",
       "      <td>-22%</td>\n",
       "      <td>Mostly Positive</td>\n",
       "      <td>Mostly Positive</td>\n",
       "    </tr>\n",
       "    <tr>\n",
       "      <th>14</th>\n",
       "      <td>Ready or Not</td>\n",
       "      <td>Ready or Not is an intense, tactical, first-pe...</td>\n",
       "      <td>37.49</td>\n",
       "      <td>-25%</td>\n",
       "      <td>Mostly Positive</td>\n",
       "      <td>Mostly Positive</td>\n",
       "    </tr>\n",
       "    <tr>\n",
       "      <th>15</th>\n",
       "      <td>FINAL FANTASY VII REMAKE INTERGRADE</td>\n",
       "      <td>Cloud Strife, an ex-SOLDIER operative, descend...</td>\n",
       "      <td>34.99</td>\n",
       "      <td>-50%</td>\n",
       "      <td>Very Positive</td>\n",
       "      <td>Very Positive</td>\n",
       "    </tr>\n",
       "    <tr>\n",
       "      <th>16</th>\n",
       "      <td>Destiny 2</td>\n",
       "      <td>Destiny 2 is an action MMO with a single evolv...</td>\n",
       "      <td>14.99</td>\n",
       "      <td>-75%</td>\n",
       "      <td>Mostly Positive</td>\n",
       "      <td>Mostly Positive</td>\n",
       "    </tr>\n",
       "    <tr>\n",
       "      <th>17</th>\n",
       "      <td>Hogwarts Legacy</td>\n",
       "      <td>Hogwarts Legacy is an immersive, open-world ac...</td>\n",
       "      <td>35.99</td>\n",
       "      <td>-40%</td>\n",
       "      <td>Very Positive</td>\n",
       "      <td>Very Positive</td>\n",
       "    </tr>\n",
       "    <tr>\n",
       "      <th>18</th>\n",
       "      <td>Dead by Daylight</td>\n",
       "      <td>Dead by Daylight is a multiplayer (4vs1) horro...</td>\n",
       "      <td>7.99</td>\n",
       "      <td>-60%</td>\n",
       "      <td>Very Positive</td>\n",
       "      <td>Very Positive</td>\n",
       "    </tr>\n",
       "    <tr>\n",
       "      <th>19</th>\n",
       "      <td>Hell Let Loose</td>\n",
       "      <td>Join the ever expanding experience of Hell Let...</td>\n",
       "      <td>42.24</td>\n",
       "      <td>-35%</td>\n",
       "      <td>Very Positive</td>\n",
       "      <td>Very Positive</td>\n",
       "    </tr>\n",
       "    <tr>\n",
       "      <th>23</th>\n",
       "      <td>Halo Infinite</td>\n",
       "      <td>From one of gaming's most iconic sagas, Halo i...</td>\n",
       "      <td>23.99</td>\n",
       "      <td>-60%</td>\n",
       "      <td>Mostly Positive</td>\n",
       "      <td>Mostly Positive</td>\n",
       "    </tr>\n",
       "    <tr>\n",
       "      <th>49</th>\n",
       "      <td>Ready or Not</td>\n",
       "      <td>Ready or Not is an intense, tactical, first-pe...</td>\n",
       "      <td>37.49</td>\n",
       "      <td>-25%</td>\n",
       "      <td>Mostly Positive</td>\n",
       "      <td>Mostly Positive</td>\n",
       "    </tr>\n",
       "    <tr>\n",
       "      <th>50</th>\n",
       "      <td>FINAL FANTASY VII REMAKE INTERGRADE</td>\n",
       "      <td>Cloud Strife, an ex-SOLDIER operative, descend...</td>\n",
       "      <td>34.99</td>\n",
       "      <td>-50%</td>\n",
       "      <td>Very Positive</td>\n",
       "      <td>Very Positive</td>\n",
       "    </tr>\n",
       "    <tr>\n",
       "      <th>51</th>\n",
       "      <td>God of War</td>\n",
       "      <td>His vengeance against the Gods of Olympus year...</td>\n",
       "      <td>24.99</td>\n",
       "      <td>-50%</td>\n",
       "      <td>Overwhelmingly Positive</td>\n",
       "      <td>Overwhelmingly Positive</td>\n",
       "    </tr>\n",
       "    <tr>\n",
       "      <th>53</th>\n",
       "      <td>Hogwarts Legacy</td>\n",
       "      <td>Hogwarts Legacy is an immersive, open-world ac...</td>\n",
       "      <td>35.99</td>\n",
       "      <td>-40%</td>\n",
       "      <td>Very Positive</td>\n",
       "      <td>Very Positive</td>\n",
       "    </tr>\n",
       "    <tr>\n",
       "      <th>54</th>\n",
       "      <td>Marvel’s Spider-Man Remastered</td>\n",
       "      <td>In Marvel’s Spider-Man Remastered, the worlds ...</td>\n",
       "      <td>35.99</td>\n",
       "      <td>-40%</td>\n",
       "      <td>Very Positive</td>\n",
       "      <td>Very Positive</td>\n",
       "    </tr>\n",
       "    <tr>\n",
       "      <th>55</th>\n",
       "      <td>Marvel’s Spider-Man: Miles Morales</td>\n",
       "      <td>After the events of Marvel’s Spider-Man Remast...</td>\n",
       "      <td>29.99</td>\n",
       "      <td>-40%</td>\n",
       "      <td>Very Positive</td>\n",
       "      <td>Very Positive</td>\n",
       "    </tr>\n",
       "    <tr>\n",
       "      <th>56</th>\n",
       "      <td>Days Gone</td>\n",
       "      <td>Ride and fight into a deadly, post pandemic Am...</td>\n",
       "      <td>12.49</td>\n",
       "      <td>-75%</td>\n",
       "      <td>Very Positive</td>\n",
       "      <td>Very Positive</td>\n",
       "    </tr>\n",
       "    <tr>\n",
       "      <th>57</th>\n",
       "      <td>Ratchet &amp; Clank: Rift Apart</td>\n",
       "      <td>Blast your way through an interdimensional adv...</td>\n",
       "      <td>40.19</td>\n",
       "      <td>-33%</td>\n",
       "      <td>Very Positive</td>\n",
       "      <td>Very Positive</td>\n",
       "    </tr>\n",
       "    <tr>\n",
       "      <th>58</th>\n",
       "      <td>Ori and the Will of the Wisps</td>\n",
       "      <td>Play the critically acclaimed masterpiece. Emb...</td>\n",
       "      <td>9.89</td>\n",
       "      <td>-67%</td>\n",
       "      <td>Overwhelmingly Positive</td>\n",
       "      <td>Overwhelmingly Positive</td>\n",
       "    </tr>\n",
       "    <tr>\n",
       "      <th>59</th>\n",
       "      <td>DRAGON QUEST® XI S: Echoes of an Elusive Age™ ...</td>\n",
       "      <td>The Definitive Edition includes the critically...</td>\n",
       "      <td>23.99</td>\n",
       "      <td>-40%</td>\n",
       "      <td>Very Positive</td>\n",
       "      <td>Very Positive</td>\n",
       "    </tr>\n",
       "    <tr>\n",
       "      <th>60</th>\n",
       "      <td>CRISIS CORE –FINAL FANTASY VII– REUNION</td>\n",
       "      <td>CRISIS CORE -FINAL FANTASY VII- REUNION is a r...</td>\n",
       "      <td>29.99</td>\n",
       "      <td>-40%</td>\n",
       "      <td>Very Positive</td>\n",
       "      <td>Very Positive</td>\n",
       "    </tr>\n",
       "    <tr>\n",
       "      <th>61</th>\n",
       "      <td>UNCHARTED™: Legacy of Thieves Collection</td>\n",
       "      <td>Play as Nathan Drake and Chloe Frazer in their...</td>\n",
       "      <td>24.99</td>\n",
       "      <td>-50%</td>\n",
       "      <td>Very Positive</td>\n",
       "      <td>Very Positive</td>\n",
       "    </tr>\n",
       "    <tr>\n",
       "      <th>62</th>\n",
       "      <td>Thronefall</td>\n",
       "      <td>A minimalist game about building and defending...</td>\n",
       "      <td>5.24</td>\n",
       "      <td>-25%</td>\n",
       "      <td>Overwhelmingly Positive</td>\n",
       "      <td>Overwhelmingly Positive</td>\n",
       "    </tr>\n",
       "    <tr>\n",
       "      <th>63</th>\n",
       "      <td>Overcooked! 2</td>\n",
       "      <td>Overcooked returns with a brand-new helping of...</td>\n",
       "      <td>6.24</td>\n",
       "      <td>-75%</td>\n",
       "      <td>Very Positive</td>\n",
       "      <td>Very Positive</td>\n",
       "    </tr>\n",
       "    <tr>\n",
       "      <th>64</th>\n",
       "      <td>Dead Space</td>\n",
       "      <td>The sci-fi survival-horror classic returns, co...</td>\n",
       "      <td>23.99</td>\n",
       "      <td>-60%</td>\n",
       "      <td>Very Positive</td>\n",
       "      <td>Very Positive</td>\n",
       "    </tr>\n",
       "    <tr>\n",
       "      <th>65</th>\n",
       "      <td>CARRION</td>\n",
       "      <td>CARRION is a reverse horror game in which you ...</td>\n",
       "      <td>5.99</td>\n",
       "      <td>-70%</td>\n",
       "      <td>Very Positive</td>\n",
       "      <td>Very Positive</td>\n",
       "    </tr>\n",
       "    <tr>\n",
       "      <th>66</th>\n",
       "      <td>FINAL FANTASY XII THE ZODIAC AGE</td>\n",
       "      <td>FINAL FANTASY XII THE ZODIAC AGE - This revere...</td>\n",
       "      <td>19.99</td>\n",
       "      <td>-60%</td>\n",
       "      <td>Very Positive</td>\n",
       "      <td>Very Positive</td>\n",
       "    </tr>\n",
       "    <tr>\n",
       "      <th>67</th>\n",
       "      <td>Atomic Heart</td>\n",
       "      <td>In a mad and sublime utopian world, take part ...</td>\n",
       "      <td>29.99</td>\n",
       "      <td>-50%</td>\n",
       "      <td>Mostly Positive</td>\n",
       "      <td>Mostly Positive</td>\n",
       "    </tr>\n",
       "    <tr>\n",
       "      <th>69</th>\n",
       "      <td>Returnal™</td>\n",
       "      <td>BREAK THE CYCLE Fight to survive as this award...</td>\n",
       "      <td>40.19</td>\n",
       "      <td>-33%</td>\n",
       "      <td>Very Positive</td>\n",
       "      <td>Very Positive</td>\n",
       "    </tr>\n",
       "    <tr>\n",
       "      <th>70</th>\n",
       "      <td>FINAL FANTASY X/X-2 HD Remaster</td>\n",
       "      <td>FINAL FANTASY X/X-2 HD Remaster celebrates two...</td>\n",
       "      <td>11.99</td>\n",
       "      <td>-60%</td>\n",
       "      <td>Very Positive</td>\n",
       "      <td>Very Positive</td>\n",
       "    </tr>\n",
       "    <tr>\n",
       "      <th>71</th>\n",
       "      <td>The Elder Scrolls V: Skyrim Special Edition</td>\n",
       "      <td>Winner of more than 200 Game of the Year Award...</td>\n",
       "      <td>9.99</td>\n",
       "      <td>-75%</td>\n",
       "      <td>Very Positive</td>\n",
       "      <td>Very Positive</td>\n",
       "    </tr>\n",
       "    <tr>\n",
       "      <th>72</th>\n",
       "      <td>STAR WARS™ Empire at War - Gold Pack</td>\n",
       "      <td>Command or corrupt an entire galaxy in the def...</td>\n",
       "      <td>6.99</td>\n",
       "      <td>-65%</td>\n",
       "      <td>Overwhelmingly Positive</td>\n",
       "      <td>Overwhelmingly Positive</td>\n",
       "    </tr>\n",
       "    <tr>\n",
       "      <th>73</th>\n",
       "      <td>FINAL FANTASY XV WINDOWS EDITION</td>\n",
       "      <td>Take the journey, now in ultimate quality. Boa...</td>\n",
       "      <td>13.99</td>\n",
       "      <td>-60%</td>\n",
       "      <td>Very Positive</td>\n",
       "      <td>Very Positive</td>\n",
       "    </tr>\n",
       "    <tr>\n",
       "      <th>74</th>\n",
       "      <td>Dead by Daylight</td>\n",
       "      <td>Dead by Daylight is a multiplayer (4vs1) horro...</td>\n",
       "      <td>7.99</td>\n",
       "      <td>-60%</td>\n",
       "      <td>Very Positive</td>\n",
       "      <td>Very Positive</td>\n",
       "    </tr>\n",
       "    <tr>\n",
       "      <th>75</th>\n",
       "      <td>Star Wars: Battlefront 2 (Classic, 2005)</td>\n",
       "      <td>Join the rise of Darth Vader’s elite 501st Leg...</td>\n",
       "      <td>3.49</td>\n",
       "      <td>-65%</td>\n",
       "      <td>Very Positive</td>\n",
       "      <td>Very Positive</td>\n",
       "    </tr>\n",
       "    <tr>\n",
       "      <th>77</th>\n",
       "      <td>STRANGER OF PARADISE FINAL FANTASY ORIGIN</td>\n",
       "      <td>Developed in cooperation between Square Enix a...</td>\n",
       "      <td>23.99</td>\n",
       "      <td>-40%</td>\n",
       "      <td>Very Positive</td>\n",
       "      <td>Very Positive</td>\n",
       "    </tr>\n",
       "    <tr>\n",
       "      <th>78</th>\n",
       "      <td>Grounded</td>\n",
       "      <td>The world is a vast, beautiful and dangerous p...</td>\n",
       "      <td>26.79</td>\n",
       "      <td>-33%</td>\n",
       "      <td>Very Positive</td>\n",
       "      <td>Very Positive</td>\n",
       "    </tr>\n",
       "    <tr>\n",
       "      <th>79</th>\n",
       "      <td>Flashing Lights - Police, Firefighting, Emerge...</td>\n",
       "      <td>Play solo or in up to 10-player multiplayer co...</td>\n",
       "      <td>8.49</td>\n",
       "      <td>-66%</td>\n",
       "      <td>Very Positive</td>\n",
       "      <td>Very Positive</td>\n",
       "    </tr>\n",
       "    <tr>\n",
       "      <th>80</th>\n",
       "      <td>LEGO® Star Wars™ - The Complete Saga</td>\n",
       "      <td>Kick Some Brick in I through VI! Play through ...</td>\n",
       "      <td>4.99</td>\n",
       "      <td>-75%</td>\n",
       "      <td>Overwhelmingly Positive</td>\n",
       "      <td>Overwhelmingly Positive</td>\n",
       "    </tr>\n",
       "    <tr>\n",
       "      <th>81</th>\n",
       "      <td>Bendy and the Dark Revival</td>\n",
       "      <td>Bendy and the Dark Revival® is a first-person ...</td>\n",
       "      <td>5.99</td>\n",
       "      <td>-80%</td>\n",
       "      <td>Very Positive</td>\n",
       "      <td>Very Positive</td>\n",
       "    </tr>\n",
       "    <tr>\n",
       "      <th>82</th>\n",
       "      <td>STAR WARS™ - The Force Unleashed™ Ultimate Sit...</td>\n",
       "      <td>A game that will show gamers the deepest, dark...</td>\n",
       "      <td>6.99</td>\n",
       "      <td>-65%</td>\n",
       "      <td>Very Positive</td>\n",
       "      <td>Very Positive</td>\n",
       "    </tr>\n",
       "    <tr>\n",
       "      <th>83</th>\n",
       "      <td>Thymesia</td>\n",
       "      <td>Thymesia is a gruelling action-RPG with fast-p...</td>\n",
       "      <td>14.99</td>\n",
       "      <td>-40%</td>\n",
       "      <td>Very Positive</td>\n",
       "      <td>Very Positive</td>\n",
       "    </tr>\n",
       "    <tr>\n",
       "      <th>84</th>\n",
       "      <td>Last Train Home</td>\n",
       "      <td>The Great War is over - the fight continues. C...</td>\n",
       "      <td>26.39</td>\n",
       "      <td>-34%</td>\n",
       "      <td>Very Positive</td>\n",
       "      <td>Very Positive</td>\n",
       "    </tr>\n",
       "    <tr>\n",
       "      <th>85</th>\n",
       "      <td>Fallout 76</td>\n",
       "      <td>Bethesda Game Studios welcome you to Fallout 7...</td>\n",
       "      <td>9.99</td>\n",
       "      <td>-75%</td>\n",
       "      <td>Mostly Positive</td>\n",
       "      <td>Mostly Positive</td>\n",
       "    </tr>\n",
       "  </tbody>\n",
       "</table>\n",
       "</div>"
      ],
      "text/plain": [
       "                                                title  \\\n",
       "0                       Ori and the Will of the Wisps   \n",
       "1   Flashing Lights - Police, Firefighting, Emerge...   \n",
       "2                                          Thronefall   \n",
       "3   DRAGON QUEST® XI S: Echoes of an Elusive Age™ ...   \n",
       "4                                             UNDYING   \n",
       "5                          Headbangers: Rhythm Royale   \n",
       "6                          Bendy and the Dark Revival   \n",
       "7                                             CARRION   \n",
       "8                                            Thymesia   \n",
       "9                               Boxes: Lost Fragments   \n",
       "10                                           HELLCARD   \n",
       "11                                        Moonbreaker   \n",
       "12                            BlazBlue Entropy Effect   \n",
       "14                                       Ready or Not   \n",
       "15                FINAL FANTASY VII REMAKE INTERGRADE   \n",
       "16                                          Destiny 2   \n",
       "17                                    Hogwarts Legacy   \n",
       "18                                   Dead by Daylight   \n",
       "19                                     Hell Let Loose   \n",
       "23                                      Halo Infinite   \n",
       "49                                       Ready or Not   \n",
       "50                FINAL FANTASY VII REMAKE INTERGRADE   \n",
       "51                                         God of War   \n",
       "53                                    Hogwarts Legacy   \n",
       "54                     Marvel’s Spider-Man Remastered   \n",
       "55                 Marvel’s Spider-Man: Miles Morales   \n",
       "56                                          Days Gone   \n",
       "57                        Ratchet & Clank: Rift Apart   \n",
       "58                      Ori and the Will of the Wisps   \n",
       "59  DRAGON QUEST® XI S: Echoes of an Elusive Age™ ...   \n",
       "60            CRISIS CORE –FINAL FANTASY VII– REUNION   \n",
       "61           UNCHARTED™: Legacy of Thieves Collection   \n",
       "62                                         Thronefall   \n",
       "63                                      Overcooked! 2   \n",
       "64                                         Dead Space   \n",
       "65                                            CARRION   \n",
       "66                   FINAL FANTASY XII THE ZODIAC AGE   \n",
       "67                                       Atomic Heart   \n",
       "69                                          Returnal™   \n",
       "70                    FINAL FANTASY X/X-2 HD Remaster   \n",
       "71        The Elder Scrolls V: Skyrim Special Edition   \n",
       "72               STAR WARS™ Empire at War - Gold Pack   \n",
       "73                   FINAL FANTASY XV WINDOWS EDITION   \n",
       "74                                   Dead by Daylight   \n",
       "75           Star Wars: Battlefront 2 (Classic, 2005)   \n",
       "77          STRANGER OF PARADISE FINAL FANTASY ORIGIN   \n",
       "78                                           Grounded   \n",
       "79  Flashing Lights - Police, Firefighting, Emerge...   \n",
       "80               LEGO® Star Wars™ - The Complete Saga   \n",
       "81                         Bendy and the Dark Revival   \n",
       "82  STAR WARS™ - The Force Unleashed™ Ultimate Sit...   \n",
       "83                                           Thymesia   \n",
       "84                                    Last Train Home   \n",
       "85                                         Fallout 76   \n",
       "\n",
       "                                          description  price salePercentage  \\\n",
       "0   Play the critically acclaimed masterpiece. Emb...   9.89           -67%   \n",
       "1   Play solo or in up to 10-player multiplayer co...   8.49           -66%   \n",
       "2   A minimalist game about building and defending...   5.24           -25%   \n",
       "3   The Definitive Edition includes the critically...  23.99           -40%   \n",
       "4   As Anling’s zombie infection sets in, her days...  13.99           -30%   \n",
       "5   Headbangers is a light-hearted, Rhythm Battle ...  13.39           -33%   \n",
       "6   Bendy and the Dark Revival® is a first-person ...   5.99           -80%   \n",
       "7   CARRION is a reverse horror game in which you ...   5.99           -70%   \n",
       "8   Thymesia is a gruelling action-RPG with fast-p...  14.99           -40%   \n",
       "9   As a legendary thief, your next assignment lur...  13.49           -10%   \n",
       "10  Hellcard is a unique cooperative deck builder ...  15.79           -21%   \n",
       "11  Moonbreaker is a turn-based strategy, tactical...  22.49           -25%   \n",
       "12  Artistic and Magnificent Combat Action, incred...  17.15           -22%   \n",
       "14  Ready or Not is an intense, tactical, first-pe...  37.49           -25%   \n",
       "15  Cloud Strife, an ex-SOLDIER operative, descend...  34.99           -50%   \n",
       "16  Destiny 2 is an action MMO with a single evolv...  14.99           -75%   \n",
       "17  Hogwarts Legacy is an immersive, open-world ac...  35.99           -40%   \n",
       "18  Dead by Daylight is a multiplayer (4vs1) horro...   7.99           -60%   \n",
       "19  Join the ever expanding experience of Hell Let...  42.24           -35%   \n",
       "23  From one of gaming's most iconic sagas, Halo i...  23.99           -60%   \n",
       "49  Ready or Not is an intense, tactical, first-pe...  37.49           -25%   \n",
       "50  Cloud Strife, an ex-SOLDIER operative, descend...  34.99           -50%   \n",
       "51  His vengeance against the Gods of Olympus year...  24.99           -50%   \n",
       "53  Hogwarts Legacy is an immersive, open-world ac...  35.99           -40%   \n",
       "54  In Marvel’s Spider-Man Remastered, the worlds ...  35.99           -40%   \n",
       "55  After the events of Marvel’s Spider-Man Remast...  29.99           -40%   \n",
       "56  Ride and fight into a deadly, post pandemic Am...  12.49           -75%   \n",
       "57  Blast your way through an interdimensional adv...  40.19           -33%   \n",
       "58  Play the critically acclaimed masterpiece. Emb...   9.89           -67%   \n",
       "59  The Definitive Edition includes the critically...  23.99           -40%   \n",
       "60  CRISIS CORE -FINAL FANTASY VII- REUNION is a r...  29.99           -40%   \n",
       "61  Play as Nathan Drake and Chloe Frazer in their...  24.99           -50%   \n",
       "62  A minimalist game about building and defending...   5.24           -25%   \n",
       "63  Overcooked returns with a brand-new helping of...   6.24           -75%   \n",
       "64  The sci-fi survival-horror classic returns, co...  23.99           -60%   \n",
       "65  CARRION is a reverse horror game in which you ...   5.99           -70%   \n",
       "66  FINAL FANTASY XII THE ZODIAC AGE - This revere...  19.99           -60%   \n",
       "67  In a mad and sublime utopian world, take part ...  29.99           -50%   \n",
       "69  BREAK THE CYCLE Fight to survive as this award...  40.19           -33%   \n",
       "70  FINAL FANTASY X/X-2 HD Remaster celebrates two...  11.99           -60%   \n",
       "71  Winner of more than 200 Game of the Year Award...   9.99           -75%   \n",
       "72  Command or corrupt an entire galaxy in the def...   6.99           -65%   \n",
       "73  Take the journey, now in ultimate quality. Boa...  13.99           -60%   \n",
       "74  Dead by Daylight is a multiplayer (4vs1) horro...   7.99           -60%   \n",
       "75  Join the rise of Darth Vader’s elite 501st Leg...   3.49           -65%   \n",
       "77  Developed in cooperation between Square Enix a...  23.99           -40%   \n",
       "78  The world is a vast, beautiful and dangerous p...  26.79           -33%   \n",
       "79  Play solo or in up to 10-player multiplayer co...   8.49           -66%   \n",
       "80  Kick Some Brick in I through VI! Play through ...   4.99           -75%   \n",
       "81  Bendy and the Dark Revival® is a first-person ...   5.99           -80%   \n",
       "82  A game that will show gamers the deepest, dark...   6.99           -65%   \n",
       "83  Thymesia is a gruelling action-RPG with fast-p...  14.99           -40%   \n",
       "84  The Great War is over - the fight continues. C...  26.39           -34%   \n",
       "85  Bethesda Game Studios welcome you to Fallout 7...   9.99           -75%   \n",
       "\n",
       "              recentReviews               allReviews  \n",
       "0   Overwhelmingly Positive  Overwhelmingly Positive  \n",
       "1             Very Positive            Very Positive  \n",
       "2   Overwhelmingly Positive  Overwhelmingly Positive  \n",
       "3             Very Positive            Very Positive  \n",
       "4           Mostly Positive          Mostly Positive  \n",
       "5             Very Positive            Very Positive  \n",
       "6             Very Positive            Very Positive  \n",
       "7             Very Positive            Very Positive  \n",
       "8             Very Positive            Very Positive  \n",
       "9             Very Positive            Very Positive  \n",
       "10            Very Positive            Very Positive  \n",
       "11            Very Positive            Very Positive  \n",
       "12          Mostly Positive          Mostly Positive  \n",
       "14          Mostly Positive          Mostly Positive  \n",
       "15            Very Positive            Very Positive  \n",
       "16          Mostly Positive          Mostly Positive  \n",
       "17            Very Positive            Very Positive  \n",
       "18            Very Positive            Very Positive  \n",
       "19            Very Positive            Very Positive  \n",
       "23          Mostly Positive          Mostly Positive  \n",
       "49          Mostly Positive          Mostly Positive  \n",
       "50            Very Positive            Very Positive  \n",
       "51  Overwhelmingly Positive  Overwhelmingly Positive  \n",
       "53            Very Positive            Very Positive  \n",
       "54            Very Positive            Very Positive  \n",
       "55            Very Positive            Very Positive  \n",
       "56            Very Positive            Very Positive  \n",
       "57            Very Positive            Very Positive  \n",
       "58  Overwhelmingly Positive  Overwhelmingly Positive  \n",
       "59            Very Positive            Very Positive  \n",
       "60            Very Positive            Very Positive  \n",
       "61            Very Positive            Very Positive  \n",
       "62  Overwhelmingly Positive  Overwhelmingly Positive  \n",
       "63            Very Positive            Very Positive  \n",
       "64            Very Positive            Very Positive  \n",
       "65            Very Positive            Very Positive  \n",
       "66            Very Positive            Very Positive  \n",
       "67          Mostly Positive          Mostly Positive  \n",
       "69            Very Positive            Very Positive  \n",
       "70            Very Positive            Very Positive  \n",
       "71            Very Positive            Very Positive  \n",
       "72  Overwhelmingly Positive  Overwhelmingly Positive  \n",
       "73            Very Positive            Very Positive  \n",
       "74            Very Positive            Very Positive  \n",
       "75            Very Positive            Very Positive  \n",
       "77            Very Positive            Very Positive  \n",
       "78            Very Positive            Very Positive  \n",
       "79            Very Positive            Very Positive  \n",
       "80  Overwhelmingly Positive  Overwhelmingly Positive  \n",
       "81            Very Positive            Very Positive  \n",
       "82            Very Positive            Very Positive  \n",
       "83            Very Positive            Very Positive  \n",
       "84            Very Positive            Very Positive  \n",
       "85          Mostly Positive          Mostly Positive  "
      ]
     },
     "execution_count": 111,
     "metadata": {},
     "output_type": "execute_result"
    }
   ],
   "source": [
    "df_nuevo"
   ]
  },
  {
   "cell_type": "markdown",
   "metadata": {},
   "source": [
    "## Eliminando columnas que no utilizamos"
   ]
  },
  {
   "cell_type": "markdown",
   "metadata": {},
   "source": [
    "En este apartado veremos como eliminar columnas que no necesitamos en nuestro dataset"
   ]
  },
  {
   "cell_type": "code",
   "execution_count": 114,
   "metadata": {},
   "outputs": [
    {
     "data": {
      "text/html": [
       "<div>\n",
       "<style scoped>\n",
       "    .dataframe tbody tr th:only-of-type {\n",
       "        vertical-align: middle;\n",
       "    }\n",
       "\n",
       "    .dataframe tbody tr th {\n",
       "        vertical-align: top;\n",
       "    }\n",
       "\n",
       "    .dataframe thead th {\n",
       "        text-align: right;\n",
       "    }\n",
       "</style>\n",
       "<table border=\"1\" class=\"dataframe\">\n",
       "  <thead>\n",
       "    <tr style=\"text-align: right;\">\n",
       "      <th></th>\n",
       "      <th>title</th>\n",
       "      <th>price</th>\n",
       "      <th>salePercentage</th>\n",
       "      <th>recentReviews</th>\n",
       "      <th>allReviews</th>\n",
       "    </tr>\n",
       "  </thead>\n",
       "  <tbody>\n",
       "    <tr>\n",
       "      <th>0</th>\n",
       "      <td>Ori and the Will of the Wisps</td>\n",
       "      <td>9.89</td>\n",
       "      <td>-67%</td>\n",
       "      <td>Overwhelmingly Positive</td>\n",
       "      <td>Overwhelmingly Positive</td>\n",
       "    </tr>\n",
       "    <tr>\n",
       "      <th>1</th>\n",
       "      <td>Flashing Lights - Police, Firefighting, Emerge...</td>\n",
       "      <td>8.49</td>\n",
       "      <td>-66%</td>\n",
       "      <td>Very Positive</td>\n",
       "      <td>Very Positive</td>\n",
       "    </tr>\n",
       "    <tr>\n",
       "      <th>2</th>\n",
       "      <td>Thronefall</td>\n",
       "      <td>5.24</td>\n",
       "      <td>-25%</td>\n",
       "      <td>Overwhelmingly Positive</td>\n",
       "      <td>Overwhelmingly Positive</td>\n",
       "    </tr>\n",
       "    <tr>\n",
       "      <th>3</th>\n",
       "      <td>DRAGON QUEST® XI S: Echoes of an Elusive Age™ ...</td>\n",
       "      <td>23.99</td>\n",
       "      <td>-40%</td>\n",
       "      <td>Very Positive</td>\n",
       "      <td>Very Positive</td>\n",
       "    </tr>\n",
       "    <tr>\n",
       "      <th>4</th>\n",
       "      <td>UNDYING</td>\n",
       "      <td>13.99</td>\n",
       "      <td>-30%</td>\n",
       "      <td>Mostly Positive</td>\n",
       "      <td>Mostly Positive</td>\n",
       "    </tr>\n",
       "    <tr>\n",
       "      <th>...</th>\n",
       "      <td>...</td>\n",
       "      <td>...</td>\n",
       "      <td>...</td>\n",
       "      <td>...</td>\n",
       "      <td>...</td>\n",
       "    </tr>\n",
       "    <tr>\n",
       "      <th>81</th>\n",
       "      <td>Bendy and the Dark Revival</td>\n",
       "      <td>5.99</td>\n",
       "      <td>-80%</td>\n",
       "      <td>Very Positive</td>\n",
       "      <td>Very Positive</td>\n",
       "    </tr>\n",
       "    <tr>\n",
       "      <th>82</th>\n",
       "      <td>STAR WARS™ - The Force Unleashed™ Ultimate Sit...</td>\n",
       "      <td>6.99</td>\n",
       "      <td>-65%</td>\n",
       "      <td>Very Positive</td>\n",
       "      <td>Very Positive</td>\n",
       "    </tr>\n",
       "    <tr>\n",
       "      <th>83</th>\n",
       "      <td>Thymesia</td>\n",
       "      <td>14.99</td>\n",
       "      <td>-40%</td>\n",
       "      <td>Very Positive</td>\n",
       "      <td>Very Positive</td>\n",
       "    </tr>\n",
       "    <tr>\n",
       "      <th>84</th>\n",
       "      <td>Last Train Home</td>\n",
       "      <td>26.39</td>\n",
       "      <td>-34%</td>\n",
       "      <td>Very Positive</td>\n",
       "      <td>Very Positive</td>\n",
       "    </tr>\n",
       "    <tr>\n",
       "      <th>85</th>\n",
       "      <td>Fallout 76</td>\n",
       "      <td>9.99</td>\n",
       "      <td>-75%</td>\n",
       "      <td>Mostly Positive</td>\n",
       "      <td>Mostly Positive</td>\n",
       "    </tr>\n",
       "  </tbody>\n",
       "</table>\n",
       "<p>86 rows × 5 columns</p>\n",
       "</div>"
      ],
      "text/plain": [
       "                                                title  price salePercentage  \\\n",
       "0                       Ori and the Will of the Wisps   9.89           -67%   \n",
       "1   Flashing Lights - Police, Firefighting, Emerge...   8.49           -66%   \n",
       "2                                          Thronefall   5.24           -25%   \n",
       "3   DRAGON QUEST® XI S: Echoes of an Elusive Age™ ...  23.99           -40%   \n",
       "4                                             UNDYING  13.99           -30%   \n",
       "..                                                ...    ...            ...   \n",
       "81                         Bendy and the Dark Revival   5.99           -80%   \n",
       "82  STAR WARS™ - The Force Unleashed™ Ultimate Sit...   6.99           -65%   \n",
       "83                                           Thymesia  14.99           -40%   \n",
       "84                                    Last Train Home  26.39           -34%   \n",
       "85                                         Fallout 76   9.99           -75%   \n",
       "\n",
       "              recentReviews               allReviews  \n",
       "0   Overwhelmingly Positive  Overwhelmingly Positive  \n",
       "1             Very Positive            Very Positive  \n",
       "2   Overwhelmingly Positive  Overwhelmingly Positive  \n",
       "3             Very Positive            Very Positive  \n",
       "4           Mostly Positive          Mostly Positive  \n",
       "..                      ...                      ...  \n",
       "81            Very Positive            Very Positive  \n",
       "82            Very Positive            Very Positive  \n",
       "83            Very Positive            Very Positive  \n",
       "84            Very Positive            Very Positive  \n",
       "85          Mostly Positive          Mostly Positive  \n",
       "\n",
       "[86 rows x 5 columns]"
      ]
     },
     "execution_count": 114,
     "metadata": {},
     "output_type": "execute_result"
    }
   ],
   "source": [
    "df_nuevo= df_nuevo.drop(columns=['description'])\n",
    "df_nuevo"
   ]
  },
  {
   "cell_type": "markdown",
   "metadata": {},
   "source": [
    "Y con el .dropna ya hemos eliminado la columna \" Descripcion \" ya que no la necesitaremos para mas adelante"
   ]
  },
  {
   "cell_type": "markdown",
   "metadata": {},
   "source": [
    "## Renombrando columnas"
   ]
  },
  {
   "cell_type": "markdown",
   "metadata": {},
   "source": [
    "En este apartado veremos como renombrar las columnas de nuestro data set, utilizando el .rename"
   ]
  },
  {
   "cell_type": "code",
   "execution_count": 115,
   "metadata": {},
   "outputs": [],
   "source": [
    "df_final = df_nuevo.rename(columns={'title':'Titulo','price':'Precio','salePercentage':'Porcentaje_Venta', 'allReviews':'Total_Reviews', 'recentReviews':'Reviews_Recientes' })"
   ]
  },
  {
   "cell_type": "markdown",
   "metadata": {},
   "source": [
    "Ahora una vez cambiado el nombre de las columnas previamente utilizando un diccionario para acortar el codigo.\n",
    "Y ahora volvemos a mostrar nuestro dataset con las columnas ya cambiadas"
   ]
  },
  {
   "cell_type": "code",
   "execution_count": 116,
   "metadata": {},
   "outputs": [
    {
     "data": {
      "text/html": [
       "<div>\n",
       "<style scoped>\n",
       "    .dataframe tbody tr th:only-of-type {\n",
       "        vertical-align: middle;\n",
       "    }\n",
       "\n",
       "    .dataframe tbody tr th {\n",
       "        vertical-align: top;\n",
       "    }\n",
       "\n",
       "    .dataframe thead th {\n",
       "        text-align: right;\n",
       "    }\n",
       "</style>\n",
       "<table border=\"1\" class=\"dataframe\">\n",
       "  <thead>\n",
       "    <tr style=\"text-align: right;\">\n",
       "      <th></th>\n",
       "      <th>Titulo</th>\n",
       "      <th>Precio</th>\n",
       "      <th>Porcentaje_Venta</th>\n",
       "      <th>Reviews_Recientes</th>\n",
       "      <th>Total_Reviews</th>\n",
       "    </tr>\n",
       "  </thead>\n",
       "  <tbody>\n",
       "    <tr>\n",
       "      <th>0</th>\n",
       "      <td>Ori and the Will of the Wisps</td>\n",
       "      <td>9.89</td>\n",
       "      <td>-67%</td>\n",
       "      <td>Overwhelmingly Positive</td>\n",
       "      <td>Overwhelmingly Positive</td>\n",
       "    </tr>\n",
       "    <tr>\n",
       "      <th>1</th>\n",
       "      <td>Flashing Lights - Police, Firefighting, Emerge...</td>\n",
       "      <td>8.49</td>\n",
       "      <td>-66%</td>\n",
       "      <td>Very Positive</td>\n",
       "      <td>Very Positive</td>\n",
       "    </tr>\n",
       "    <tr>\n",
       "      <th>2</th>\n",
       "      <td>Thronefall</td>\n",
       "      <td>5.24</td>\n",
       "      <td>-25%</td>\n",
       "      <td>Overwhelmingly Positive</td>\n",
       "      <td>Overwhelmingly Positive</td>\n",
       "    </tr>\n",
       "    <tr>\n",
       "      <th>3</th>\n",
       "      <td>DRAGON QUEST® XI S: Echoes of an Elusive Age™ ...</td>\n",
       "      <td>23.99</td>\n",
       "      <td>-40%</td>\n",
       "      <td>Very Positive</td>\n",
       "      <td>Very Positive</td>\n",
       "    </tr>\n",
       "    <tr>\n",
       "      <th>4</th>\n",
       "      <td>UNDYING</td>\n",
       "      <td>13.99</td>\n",
       "      <td>-30%</td>\n",
       "      <td>Mostly Positive</td>\n",
       "      <td>Mostly Positive</td>\n",
       "    </tr>\n",
       "    <tr>\n",
       "      <th>...</th>\n",
       "      <td>...</td>\n",
       "      <td>...</td>\n",
       "      <td>...</td>\n",
       "      <td>...</td>\n",
       "      <td>...</td>\n",
       "    </tr>\n",
       "    <tr>\n",
       "      <th>81</th>\n",
       "      <td>Bendy and the Dark Revival</td>\n",
       "      <td>5.99</td>\n",
       "      <td>-80%</td>\n",
       "      <td>Very Positive</td>\n",
       "      <td>Very Positive</td>\n",
       "    </tr>\n",
       "    <tr>\n",
       "      <th>82</th>\n",
       "      <td>STAR WARS™ - The Force Unleashed™ Ultimate Sit...</td>\n",
       "      <td>6.99</td>\n",
       "      <td>-65%</td>\n",
       "      <td>Very Positive</td>\n",
       "      <td>Very Positive</td>\n",
       "    </tr>\n",
       "    <tr>\n",
       "      <th>83</th>\n",
       "      <td>Thymesia</td>\n",
       "      <td>14.99</td>\n",
       "      <td>-40%</td>\n",
       "      <td>Very Positive</td>\n",
       "      <td>Very Positive</td>\n",
       "    </tr>\n",
       "    <tr>\n",
       "      <th>84</th>\n",
       "      <td>Last Train Home</td>\n",
       "      <td>26.39</td>\n",
       "      <td>-34%</td>\n",
       "      <td>Very Positive</td>\n",
       "      <td>Very Positive</td>\n",
       "    </tr>\n",
       "    <tr>\n",
       "      <th>85</th>\n",
       "      <td>Fallout 76</td>\n",
       "      <td>9.99</td>\n",
       "      <td>-75%</td>\n",
       "      <td>Mostly Positive</td>\n",
       "      <td>Mostly Positive</td>\n",
       "    </tr>\n",
       "  </tbody>\n",
       "</table>\n",
       "<p>86 rows × 5 columns</p>\n",
       "</div>"
      ],
      "text/plain": [
       "                                               Titulo  Precio  \\\n",
       "0                       Ori and the Will of the Wisps    9.89   \n",
       "1   Flashing Lights - Police, Firefighting, Emerge...    8.49   \n",
       "2                                          Thronefall    5.24   \n",
       "3   DRAGON QUEST® XI S: Echoes of an Elusive Age™ ...   23.99   \n",
       "4                                             UNDYING   13.99   \n",
       "..                                                ...     ...   \n",
       "81                         Bendy and the Dark Revival    5.99   \n",
       "82  STAR WARS™ - The Force Unleashed™ Ultimate Sit...    6.99   \n",
       "83                                           Thymesia   14.99   \n",
       "84                                    Last Train Home   26.39   \n",
       "85                                         Fallout 76    9.99   \n",
       "\n",
       "   Porcentaje_Venta        Reviews_Recientes            Total_Reviews  \n",
       "0              -67%  Overwhelmingly Positive  Overwhelmingly Positive  \n",
       "1              -66%            Very Positive            Very Positive  \n",
       "2              -25%  Overwhelmingly Positive  Overwhelmingly Positive  \n",
       "3              -40%            Very Positive            Very Positive  \n",
       "4              -30%          Mostly Positive          Mostly Positive  \n",
       "..              ...                      ...                      ...  \n",
       "81             -80%            Very Positive            Very Positive  \n",
       "82             -65%            Very Positive            Very Positive  \n",
       "83             -40%            Very Positive            Very Positive  \n",
       "84             -34%            Very Positive            Very Positive  \n",
       "85             -75%          Mostly Positive          Mostly Positive  \n",
       "\n",
       "[86 rows x 5 columns]"
      ]
     },
     "execution_count": 116,
     "metadata": {},
     "output_type": "execute_result"
    }
   ],
   "source": [
    "df_final"
   ]
  },
  {
   "cell_type": "markdown",
   "metadata": {},
   "source": [
    "## Reindexaciones"
   ]
  },
  {
   "cell_type": "markdown",
   "metadata": {},
   "source": [
    "Ahora veremos las reindexaciones, estas son usadas cuando alguna columa es alterada o eliminada, y dando asi que los index esten mal posicionados, de modo si eliminamos el index 2, la tabla mostrara 1,3,4,5"
   ]
  },
  {
   "cell_type": "code",
   "execution_count": 117,
   "metadata": {},
   "outputs": [],
   "source": [
    "df_final_2 = df_final.copy()"
   ]
  },
  {
   "cell_type": "code",
   "execution_count": 118,
   "metadata": {},
   "outputs": [
    {
     "data": {
      "text/html": [
       "<div>\n",
       "<style scoped>\n",
       "    .dataframe tbody tr th:only-of-type {\n",
       "        vertical-align: middle;\n",
       "    }\n",
       "\n",
       "    .dataframe tbody tr th {\n",
       "        vertical-align: top;\n",
       "    }\n",
       "\n",
       "    .dataframe thead th {\n",
       "        text-align: right;\n",
       "    }\n",
       "</style>\n",
       "<table border=\"1\" class=\"dataframe\">\n",
       "  <thead>\n",
       "    <tr style=\"text-align: right;\">\n",
       "      <th></th>\n",
       "      <th>Titulo</th>\n",
       "      <th>Precio</th>\n",
       "      <th>Porcentaje_Venta</th>\n",
       "      <th>Reviews_Recientes</th>\n",
       "      <th>Total_Reviews</th>\n",
       "    </tr>\n",
       "  </thead>\n",
       "  <tbody>\n",
       "    <tr>\n",
       "      <th>0</th>\n",
       "      <td>Ori and the Will of the Wisps</td>\n",
       "      <td>9.89</td>\n",
       "      <td>-67%</td>\n",
       "      <td>Overwhelmingly Positive</td>\n",
       "      <td>Overwhelmingly Positive</td>\n",
       "    </tr>\n",
       "    <tr>\n",
       "      <th>1</th>\n",
       "      <td>Flashing Lights - Police, Firefighting, Emerge...</td>\n",
       "      <td>8.49</td>\n",
       "      <td>-66%</td>\n",
       "      <td>Very Positive</td>\n",
       "      <td>Very Positive</td>\n",
       "    </tr>\n",
       "    <tr>\n",
       "      <th>2</th>\n",
       "      <td>Thronefall</td>\n",
       "      <td>5.24</td>\n",
       "      <td>-25%</td>\n",
       "      <td>Overwhelmingly Positive</td>\n",
       "      <td>Overwhelmingly Positive</td>\n",
       "    </tr>\n",
       "    <tr>\n",
       "      <th>3</th>\n",
       "      <td>DRAGON QUEST® XI S: Echoes of an Elusive Age™ ...</td>\n",
       "      <td>23.99</td>\n",
       "      <td>-40%</td>\n",
       "      <td>Very Positive</td>\n",
       "      <td>Very Positive</td>\n",
       "    </tr>\n",
       "    <tr>\n",
       "      <th>4</th>\n",
       "      <td>UNDYING</td>\n",
       "      <td>13.99</td>\n",
       "      <td>-30%</td>\n",
       "      <td>Mostly Positive</td>\n",
       "      <td>Mostly Positive</td>\n",
       "    </tr>\n",
       "    <tr>\n",
       "      <th>...</th>\n",
       "      <td>...</td>\n",
       "      <td>...</td>\n",
       "      <td>...</td>\n",
       "      <td>...</td>\n",
       "      <td>...</td>\n",
       "    </tr>\n",
       "    <tr>\n",
       "      <th>81</th>\n",
       "      <td>Bendy and the Dark Revival</td>\n",
       "      <td>5.99</td>\n",
       "      <td>-80%</td>\n",
       "      <td>Very Positive</td>\n",
       "      <td>Very Positive</td>\n",
       "    </tr>\n",
       "    <tr>\n",
       "      <th>82</th>\n",
       "      <td>STAR WARS™ - The Force Unleashed™ Ultimate Sit...</td>\n",
       "      <td>6.99</td>\n",
       "      <td>-65%</td>\n",
       "      <td>Very Positive</td>\n",
       "      <td>Very Positive</td>\n",
       "    </tr>\n",
       "    <tr>\n",
       "      <th>83</th>\n",
       "      <td>Thymesia</td>\n",
       "      <td>14.99</td>\n",
       "      <td>-40%</td>\n",
       "      <td>Very Positive</td>\n",
       "      <td>Very Positive</td>\n",
       "    </tr>\n",
       "    <tr>\n",
       "      <th>84</th>\n",
       "      <td>Last Train Home</td>\n",
       "      <td>26.39</td>\n",
       "      <td>-34%</td>\n",
       "      <td>Very Positive</td>\n",
       "      <td>Very Positive</td>\n",
       "    </tr>\n",
       "    <tr>\n",
       "      <th>85</th>\n",
       "      <td>Fallout 76</td>\n",
       "      <td>9.99</td>\n",
       "      <td>-75%</td>\n",
       "      <td>Mostly Positive</td>\n",
       "      <td>Mostly Positive</td>\n",
       "    </tr>\n",
       "  </tbody>\n",
       "</table>\n",
       "<p>86 rows × 5 columns</p>\n",
       "</div>"
      ],
      "text/plain": [
       "                                               Titulo  Precio  \\\n",
       "0                       Ori and the Will of the Wisps    9.89   \n",
       "1   Flashing Lights - Police, Firefighting, Emerge...    8.49   \n",
       "2                                          Thronefall    5.24   \n",
       "3   DRAGON QUEST® XI S: Echoes of an Elusive Age™ ...   23.99   \n",
       "4                                             UNDYING   13.99   \n",
       "..                                                ...     ...   \n",
       "81                         Bendy and the Dark Revival    5.99   \n",
       "82  STAR WARS™ - The Force Unleashed™ Ultimate Sit...    6.99   \n",
       "83                                           Thymesia   14.99   \n",
       "84                                    Last Train Home   26.39   \n",
       "85                                         Fallout 76    9.99   \n",
       "\n",
       "   Porcentaje_Venta        Reviews_Recientes            Total_Reviews  \n",
       "0              -67%  Overwhelmingly Positive  Overwhelmingly Positive  \n",
       "1              -66%            Very Positive            Very Positive  \n",
       "2              -25%  Overwhelmingly Positive  Overwhelmingly Positive  \n",
       "3              -40%            Very Positive            Very Positive  \n",
       "4              -30%          Mostly Positive          Mostly Positive  \n",
       "..              ...                      ...                      ...  \n",
       "81             -80%            Very Positive            Very Positive  \n",
       "82             -65%            Very Positive            Very Positive  \n",
       "83             -40%            Very Positive            Very Positive  \n",
       "84             -34%            Very Positive            Very Positive  \n",
       "85             -75%          Mostly Positive          Mostly Positive  \n",
       "\n",
       "[86 rows x 5 columns]"
      ]
     },
     "execution_count": 118,
     "metadata": {},
     "output_type": "execute_result"
    }
   ],
   "source": [
    "df_final_2"
   ]
  },
  {
   "cell_type": "markdown",
   "metadata": {},
   "source": [
    "En este apartado veremos como solucionar los index, usando las indexaciones con el .set_index"
   ]
  },
  {
   "cell_type": "code",
   "execution_count": 119,
   "metadata": {},
   "outputs": [],
   "source": [
    "df_final_2.set_index('Titulo', inplace=True)"
   ]
  },
  {
   "cell_type": "code",
   "execution_count": 120,
   "metadata": {},
   "outputs": [
    {
     "data": {
      "text/html": [
       "<div>\n",
       "<style scoped>\n",
       "    .dataframe tbody tr th:only-of-type {\n",
       "        vertical-align: middle;\n",
       "    }\n",
       "\n",
       "    .dataframe tbody tr th {\n",
       "        vertical-align: top;\n",
       "    }\n",
       "\n",
       "    .dataframe thead th {\n",
       "        text-align: right;\n",
       "    }\n",
       "</style>\n",
       "<table border=\"1\" class=\"dataframe\">\n",
       "  <thead>\n",
       "    <tr style=\"text-align: right;\">\n",
       "      <th></th>\n",
       "      <th>Precio</th>\n",
       "      <th>Porcentaje_Venta</th>\n",
       "      <th>Reviews_Recientes</th>\n",
       "      <th>Total_Reviews</th>\n",
       "    </tr>\n",
       "    <tr>\n",
       "      <th>Titulo</th>\n",
       "      <th></th>\n",
       "      <th></th>\n",
       "      <th></th>\n",
       "      <th></th>\n",
       "    </tr>\n",
       "  </thead>\n",
       "  <tbody>\n",
       "    <tr>\n",
       "      <th>Ori and the Will of the Wisps</th>\n",
       "      <td>9.89</td>\n",
       "      <td>-67%</td>\n",
       "      <td>Overwhelmingly Positive</td>\n",
       "      <td>Overwhelmingly Positive</td>\n",
       "    </tr>\n",
       "    <tr>\n",
       "      <th>Flashing Lights - Police, Firefighting, Emergency Services (EMS) Simulator</th>\n",
       "      <td>8.49</td>\n",
       "      <td>-66%</td>\n",
       "      <td>Very Positive</td>\n",
       "      <td>Very Positive</td>\n",
       "    </tr>\n",
       "    <tr>\n",
       "      <th>Thronefall</th>\n",
       "      <td>5.24</td>\n",
       "      <td>-25%</td>\n",
       "      <td>Overwhelmingly Positive</td>\n",
       "      <td>Overwhelmingly Positive</td>\n",
       "    </tr>\n",
       "    <tr>\n",
       "      <th>DRAGON QUEST® XI S: Echoes of an Elusive Age™ - Definitive Edition</th>\n",
       "      <td>23.99</td>\n",
       "      <td>-40%</td>\n",
       "      <td>Very Positive</td>\n",
       "      <td>Very Positive</td>\n",
       "    </tr>\n",
       "    <tr>\n",
       "      <th>UNDYING</th>\n",
       "      <td>13.99</td>\n",
       "      <td>-30%</td>\n",
       "      <td>Mostly Positive</td>\n",
       "      <td>Mostly Positive</td>\n",
       "    </tr>\n",
       "    <tr>\n",
       "      <th>...</th>\n",
       "      <td>...</td>\n",
       "      <td>...</td>\n",
       "      <td>...</td>\n",
       "      <td>...</td>\n",
       "    </tr>\n",
       "    <tr>\n",
       "      <th>Bendy and the Dark Revival</th>\n",
       "      <td>5.99</td>\n",
       "      <td>-80%</td>\n",
       "      <td>Very Positive</td>\n",
       "      <td>Very Positive</td>\n",
       "    </tr>\n",
       "    <tr>\n",
       "      <th>STAR WARS™ - The Force Unleashed™ Ultimate Sith Edition</th>\n",
       "      <td>6.99</td>\n",
       "      <td>-65%</td>\n",
       "      <td>Very Positive</td>\n",
       "      <td>Very Positive</td>\n",
       "    </tr>\n",
       "    <tr>\n",
       "      <th>Thymesia</th>\n",
       "      <td>14.99</td>\n",
       "      <td>-40%</td>\n",
       "      <td>Very Positive</td>\n",
       "      <td>Very Positive</td>\n",
       "    </tr>\n",
       "    <tr>\n",
       "      <th>Last Train Home</th>\n",
       "      <td>26.39</td>\n",
       "      <td>-34%</td>\n",
       "      <td>Very Positive</td>\n",
       "      <td>Very Positive</td>\n",
       "    </tr>\n",
       "    <tr>\n",
       "      <th>Fallout 76</th>\n",
       "      <td>9.99</td>\n",
       "      <td>-75%</td>\n",
       "      <td>Mostly Positive</td>\n",
       "      <td>Mostly Positive</td>\n",
       "    </tr>\n",
       "  </tbody>\n",
       "</table>\n",
       "<p>86 rows × 4 columns</p>\n",
       "</div>"
      ],
      "text/plain": [
       "                                                    Precio Porcentaje_Venta  \\\n",
       "Titulo                                                                        \n",
       "Ori and the Will of the Wisps                         9.89             -67%   \n",
       "Flashing Lights - Police, Firefighting, Emergen...    8.49             -66%   \n",
       "Thronefall                                            5.24             -25%   \n",
       "DRAGON QUEST® XI S: Echoes of an Elusive Age™ -...   23.99             -40%   \n",
       "UNDYING                                              13.99             -30%   \n",
       "...                                                    ...              ...   \n",
       "Bendy and the Dark Revival                            5.99             -80%   \n",
       "STAR WARS™ - The Force Unleashed™ Ultimate Sith...    6.99             -65%   \n",
       "Thymesia                                             14.99             -40%   \n",
       "Last Train Home                                      26.39             -34%   \n",
       "Fallout 76                                            9.99             -75%   \n",
       "\n",
       "                                                          Reviews_Recientes  \\\n",
       "Titulo                                                                        \n",
       "Ori and the Will of the Wisps                       Overwhelmingly Positive   \n",
       "Flashing Lights - Police, Firefighting, Emergen...            Very Positive   \n",
       "Thronefall                                          Overwhelmingly Positive   \n",
       "DRAGON QUEST® XI S: Echoes of an Elusive Age™ -...            Very Positive   \n",
       "UNDYING                                                     Mostly Positive   \n",
       "...                                                                     ...   \n",
       "Bendy and the Dark Revival                                    Very Positive   \n",
       "STAR WARS™ - The Force Unleashed™ Ultimate Sith...            Very Positive   \n",
       "Thymesia                                                      Very Positive   \n",
       "Last Train Home                                               Very Positive   \n",
       "Fallout 76                                                  Mostly Positive   \n",
       "\n",
       "                                                              Total_Reviews  \n",
       "Titulo                                                                       \n",
       "Ori and the Will of the Wisps                       Overwhelmingly Positive  \n",
       "Flashing Lights - Police, Firefighting, Emergen...            Very Positive  \n",
       "Thronefall                                          Overwhelmingly Positive  \n",
       "DRAGON QUEST® XI S: Echoes of an Elusive Age™ -...            Very Positive  \n",
       "UNDYING                                                     Mostly Positive  \n",
       "...                                                                     ...  \n",
       "Bendy and the Dark Revival                                    Very Positive  \n",
       "STAR WARS™ - The Force Unleashed™ Ultimate Sith...            Very Positive  \n",
       "Thymesia                                                      Very Positive  \n",
       "Last Train Home                                               Very Positive  \n",
       "Fallout 76                                                  Mostly Positive  \n",
       "\n",
       "[86 rows x 4 columns]"
      ]
     },
     "execution_count": 120,
     "metadata": {},
     "output_type": "execute_result"
    }
   ],
   "source": [
    "df_final_2"
   ]
  },
  {
   "cell_type": "markdown",
   "metadata": {},
   "source": [
    "En este apartado veremos con el .reset_index es utilizado para resetear los index ya previamente arreglados"
   ]
  },
  {
   "cell_type": "code",
   "execution_count": 121,
   "metadata": {},
   "outputs": [],
   "source": [
    "df_final_2.reset_index(inplace=True)"
   ]
  },
  {
   "cell_type": "code",
   "execution_count": 122,
   "metadata": {},
   "outputs": [
    {
     "data": {
      "text/html": [
       "<div>\n",
       "<style scoped>\n",
       "    .dataframe tbody tr th:only-of-type {\n",
       "        vertical-align: middle;\n",
       "    }\n",
       "\n",
       "    .dataframe tbody tr th {\n",
       "        vertical-align: top;\n",
       "    }\n",
       "\n",
       "    .dataframe thead th {\n",
       "        text-align: right;\n",
       "    }\n",
       "</style>\n",
       "<table border=\"1\" class=\"dataframe\">\n",
       "  <thead>\n",
       "    <tr style=\"text-align: right;\">\n",
       "      <th></th>\n",
       "      <th>Titulo</th>\n",
       "      <th>Precio</th>\n",
       "      <th>Porcentaje_Venta</th>\n",
       "      <th>Reviews_Recientes</th>\n",
       "      <th>Total_Reviews</th>\n",
       "    </tr>\n",
       "  </thead>\n",
       "  <tbody>\n",
       "    <tr>\n",
       "      <th>0</th>\n",
       "      <td>Ori and the Will of the Wisps</td>\n",
       "      <td>9.89</td>\n",
       "      <td>-67%</td>\n",
       "      <td>Overwhelmingly Positive</td>\n",
       "      <td>Overwhelmingly Positive</td>\n",
       "    </tr>\n",
       "    <tr>\n",
       "      <th>1</th>\n",
       "      <td>Flashing Lights - Police, Firefighting, Emerge...</td>\n",
       "      <td>8.49</td>\n",
       "      <td>-66%</td>\n",
       "      <td>Very Positive</td>\n",
       "      <td>Very Positive</td>\n",
       "    </tr>\n",
       "    <tr>\n",
       "      <th>2</th>\n",
       "      <td>Thronefall</td>\n",
       "      <td>5.24</td>\n",
       "      <td>-25%</td>\n",
       "      <td>Overwhelmingly Positive</td>\n",
       "      <td>Overwhelmingly Positive</td>\n",
       "    </tr>\n",
       "    <tr>\n",
       "      <th>3</th>\n",
       "      <td>DRAGON QUEST® XI S: Echoes of an Elusive Age™ ...</td>\n",
       "      <td>23.99</td>\n",
       "      <td>-40%</td>\n",
       "      <td>Very Positive</td>\n",
       "      <td>Very Positive</td>\n",
       "    </tr>\n",
       "    <tr>\n",
       "      <th>4</th>\n",
       "      <td>UNDYING</td>\n",
       "      <td>13.99</td>\n",
       "      <td>-30%</td>\n",
       "      <td>Mostly Positive</td>\n",
       "      <td>Mostly Positive</td>\n",
       "    </tr>\n",
       "    <tr>\n",
       "      <th>...</th>\n",
       "      <td>...</td>\n",
       "      <td>...</td>\n",
       "      <td>...</td>\n",
       "      <td>...</td>\n",
       "      <td>...</td>\n",
       "    </tr>\n",
       "    <tr>\n",
       "      <th>81</th>\n",
       "      <td>Bendy and the Dark Revival</td>\n",
       "      <td>5.99</td>\n",
       "      <td>-80%</td>\n",
       "      <td>Very Positive</td>\n",
       "      <td>Very Positive</td>\n",
       "    </tr>\n",
       "    <tr>\n",
       "      <th>82</th>\n",
       "      <td>STAR WARS™ - The Force Unleashed™ Ultimate Sit...</td>\n",
       "      <td>6.99</td>\n",
       "      <td>-65%</td>\n",
       "      <td>Very Positive</td>\n",
       "      <td>Very Positive</td>\n",
       "    </tr>\n",
       "    <tr>\n",
       "      <th>83</th>\n",
       "      <td>Thymesia</td>\n",
       "      <td>14.99</td>\n",
       "      <td>-40%</td>\n",
       "      <td>Very Positive</td>\n",
       "      <td>Very Positive</td>\n",
       "    </tr>\n",
       "    <tr>\n",
       "      <th>84</th>\n",
       "      <td>Last Train Home</td>\n",
       "      <td>26.39</td>\n",
       "      <td>-34%</td>\n",
       "      <td>Very Positive</td>\n",
       "      <td>Very Positive</td>\n",
       "    </tr>\n",
       "    <tr>\n",
       "      <th>85</th>\n",
       "      <td>Fallout 76</td>\n",
       "      <td>9.99</td>\n",
       "      <td>-75%</td>\n",
       "      <td>Mostly Positive</td>\n",
       "      <td>Mostly Positive</td>\n",
       "    </tr>\n",
       "  </tbody>\n",
       "</table>\n",
       "<p>86 rows × 5 columns</p>\n",
       "</div>"
      ],
      "text/plain": [
       "                                               Titulo  Precio  \\\n",
       "0                       Ori and the Will of the Wisps    9.89   \n",
       "1   Flashing Lights - Police, Firefighting, Emerge...    8.49   \n",
       "2                                          Thronefall    5.24   \n",
       "3   DRAGON QUEST® XI S: Echoes of an Elusive Age™ ...   23.99   \n",
       "4                                             UNDYING   13.99   \n",
       "..                                                ...     ...   \n",
       "81                         Bendy and the Dark Revival    5.99   \n",
       "82  STAR WARS™ - The Force Unleashed™ Ultimate Sit...    6.99   \n",
       "83                                           Thymesia   14.99   \n",
       "84                                    Last Train Home   26.39   \n",
       "85                                         Fallout 76    9.99   \n",
       "\n",
       "   Porcentaje_Venta        Reviews_Recientes            Total_Reviews  \n",
       "0              -67%  Overwhelmingly Positive  Overwhelmingly Positive  \n",
       "1              -66%            Very Positive            Very Positive  \n",
       "2              -25%  Overwhelmingly Positive  Overwhelmingly Positive  \n",
       "3              -40%            Very Positive            Very Positive  \n",
       "4              -30%          Mostly Positive          Mostly Positive  \n",
       "..              ...                      ...                      ...  \n",
       "81             -80%            Very Positive            Very Positive  \n",
       "82             -65%            Very Positive            Very Positive  \n",
       "83             -40%            Very Positive            Very Positive  \n",
       "84             -34%            Very Positive            Very Positive  \n",
       "85             -75%          Mostly Positive          Mostly Positive  \n",
       "\n",
       "[86 rows x 5 columns]"
      ]
     },
     "execution_count": 122,
     "metadata": {},
     "output_type": "execute_result"
    }
   ],
   "source": [
    "df_final_2"
   ]
  },
  {
   "cell_type": "markdown",
   "metadata": {},
   "source": [
    "## Sacando la media"
   ]
  },
  {
   "cell_type": "markdown",
   "metadata": {},
   "source": [
    "En este apartado veremos como sacar la media usando el .mean()"
   ]
  },
  {
   "cell_type": "code",
   "execution_count": 123,
   "metadata": {},
   "outputs": [
    {
     "data": {
      "text/plain": [
       "np.float64(20.500983606557377)"
      ]
     },
     "execution_count": 123,
     "metadata": {},
     "output_type": "execute_result"
    }
   ],
   "source": [
    "df_final_2['Precio'].mean()"
   ]
  },
  {
   "cell_type": "markdown",
   "metadata": {},
   "source": [
    "## Sacando la mediana"
   ]
  },
  {
   "cell_type": "markdown",
   "metadata": {},
   "source": [
    "En este apartado veremos como sacar la mediana utilizando el .meadian()"
   ]
  },
  {
   "cell_type": "code",
   "execution_count": 124,
   "metadata": {},
   "outputs": [],
   "source": [
    "mediana_precio = df_final_2['Precio'].median()"
   ]
  },
  {
   "cell_type": "code",
   "execution_count": 125,
   "metadata": {},
   "outputs": [
    {
     "data": {
      "text/plain": [
       "np.float64(17.15)"
      ]
     },
     "execution_count": 125,
     "metadata": {},
     "output_type": "execute_result"
    }
   ],
   "source": [
    "mediana_precio"
   ]
  },
  {
   "cell_type": "markdown",
   "metadata": {},
   "source": [
    "## Sacar la moda"
   ]
  },
  {
   "cell_type": "markdown",
   "metadata": {},
   "source": [
    "En este apartado veremos como sacar la moda, del \"price\" utilizando el .mode()"
   ]
  },
  {
   "cell_type": "code",
   "execution_count": 126,
   "metadata": {},
   "outputs": [],
   "source": [
    "moda_precio = df_final_2['Precio'].mode()"
   ]
  },
  {
   "cell_type": "code",
   "execution_count": 127,
   "metadata": {},
   "outputs": [
    {
     "data": {
      "text/plain": [
       "0    23.99\n",
       "Name: Precio, dtype: float64"
      ]
     },
     "execution_count": 127,
     "metadata": {},
     "output_type": "execute_result"
    }
   ],
   "source": [
    "moda_precio"
   ]
  },
  {
   "cell_type": "markdown",
   "metadata": {},
   "source": [
    "## Desviacion Estandar"
   ]
  },
  {
   "cell_type": "markdown",
   "metadata": {},
   "source": [
    "Ahora veremos la derivacion estandar en este caso del 'Precio'"
   ]
  },
  {
   "cell_type": "code",
   "execution_count": 128,
   "metadata": {},
   "outputs": [
    {
     "data": {
      "text/plain": [
       "0      9.89\n",
       "1      8.49\n",
       "2      5.24\n",
       "3     23.99\n",
       "4     13.99\n",
       "      ...  \n",
       "81     5.99\n",
       "82     6.99\n",
       "83    14.99\n",
       "84    26.39\n",
       "85     9.99\n",
       "Name: Precio, Length: 86, dtype: float64"
      ]
     },
     "execution_count": 128,
     "metadata": {},
     "output_type": "execute_result"
    }
   ],
   "source": [
    "df_final_2['Precio']"
   ]
  },
  {
   "cell_type": "code",
   "execution_count": 129,
   "metadata": {},
   "outputs": [
    {
     "data": {
      "text/plain": [
       "np.float64(20.500983606557377)"
      ]
     },
     "execution_count": 129,
     "metadata": {},
     "output_type": "execute_result"
    }
   ],
   "source": [
    "df_final_2['Precio'].mean()"
   ]
  },
  {
   "cell_type": "code",
   "execution_count": 130,
   "metadata": {},
   "outputs": [
    {
     "data": {
      "text/plain": [
       "np.float64(12.955313157789488)"
      ]
     },
     "execution_count": 130,
     "metadata": {},
     "output_type": "execute_result"
    }
   ],
   "source": [
    "df_final_2['Precio'].std()"
   ]
  },
  {
   "cell_type": "markdown",
   "metadata": {},
   "source": [
    "## Estadísticos de Orden"
   ]
  },
  {
   "cell_type": "markdown",
   "metadata": {},
   "source": [
    "En este apartado veremos los estadisticos de orden, primero mostrando la tabla y sacando el maximo, mediana y los cuartiles desde \n",
    "0.25 hasta 1"
   ]
  },
  {
   "cell_type": "code",
   "execution_count": 131,
   "metadata": {},
   "outputs": [
    {
     "data": {
      "text/html": [
       "<div>\n",
       "<style scoped>\n",
       "    .dataframe tbody tr th:only-of-type {\n",
       "        vertical-align: middle;\n",
       "    }\n",
       "\n",
       "    .dataframe tbody tr th {\n",
       "        vertical-align: top;\n",
       "    }\n",
       "\n",
       "    .dataframe thead th {\n",
       "        text-align: right;\n",
       "    }\n",
       "</style>\n",
       "<table border=\"1\" class=\"dataframe\">\n",
       "  <thead>\n",
       "    <tr style=\"text-align: right;\">\n",
       "      <th></th>\n",
       "      <th>Titulo</th>\n",
       "      <th>Precio</th>\n",
       "      <th>Porcentaje_Venta</th>\n",
       "      <th>Reviews_Recientes</th>\n",
       "      <th>Total_Reviews</th>\n",
       "    </tr>\n",
       "  </thead>\n",
       "  <tbody>\n",
       "    <tr>\n",
       "      <th>0</th>\n",
       "      <td>Ori and the Will of the Wisps</td>\n",
       "      <td>9.89</td>\n",
       "      <td>-67%</td>\n",
       "      <td>Overwhelmingly Positive</td>\n",
       "      <td>Overwhelmingly Positive</td>\n",
       "    </tr>\n",
       "    <tr>\n",
       "      <th>1</th>\n",
       "      <td>Flashing Lights - Police, Firefighting, Emerge...</td>\n",
       "      <td>8.49</td>\n",
       "      <td>-66%</td>\n",
       "      <td>Very Positive</td>\n",
       "      <td>Very Positive</td>\n",
       "    </tr>\n",
       "    <tr>\n",
       "      <th>2</th>\n",
       "      <td>Thronefall</td>\n",
       "      <td>5.24</td>\n",
       "      <td>-25%</td>\n",
       "      <td>Overwhelmingly Positive</td>\n",
       "      <td>Overwhelmingly Positive</td>\n",
       "    </tr>\n",
       "    <tr>\n",
       "      <th>3</th>\n",
       "      <td>DRAGON QUEST® XI S: Echoes of an Elusive Age™ ...</td>\n",
       "      <td>23.99</td>\n",
       "      <td>-40%</td>\n",
       "      <td>Very Positive</td>\n",
       "      <td>Very Positive</td>\n",
       "    </tr>\n",
       "    <tr>\n",
       "      <th>4</th>\n",
       "      <td>UNDYING</td>\n",
       "      <td>13.99</td>\n",
       "      <td>-30%</td>\n",
       "      <td>Mostly Positive</td>\n",
       "      <td>Mostly Positive</td>\n",
       "    </tr>\n",
       "  </tbody>\n",
       "</table>\n",
       "</div>"
      ],
      "text/plain": [
       "                                              Titulo  Precio Porcentaje_Venta  \\\n",
       "0                      Ori and the Will of the Wisps    9.89             -67%   \n",
       "1  Flashing Lights - Police, Firefighting, Emerge...    8.49             -66%   \n",
       "2                                         Thronefall    5.24             -25%   \n",
       "3  DRAGON QUEST® XI S: Echoes of an Elusive Age™ ...   23.99             -40%   \n",
       "4                                            UNDYING   13.99             -30%   \n",
       "\n",
       "         Reviews_Recientes            Total_Reviews  \n",
       "0  Overwhelmingly Positive  Overwhelmingly Positive  \n",
       "1            Very Positive            Very Positive  \n",
       "2  Overwhelmingly Positive  Overwhelmingly Positive  \n",
       "3            Very Positive            Very Positive  \n",
       "4          Mostly Positive          Mostly Positive  "
      ]
     },
     "execution_count": 131,
     "metadata": {},
     "output_type": "execute_result"
    }
   ],
   "source": [
    "df_final_2.head()"
   ]
  },
  {
   "cell_type": "code",
   "execution_count": 132,
   "metadata": {},
   "outputs": [
    {
     "data": {
      "text/plain": [
       "np.float64(59.99)"
      ]
     },
     "execution_count": 132,
     "metadata": {},
     "output_type": "execute_result"
    }
   ],
   "source": [
    "df_final_2['Precio'].max()"
   ]
  },
  {
   "cell_type": "code",
   "execution_count": 133,
   "metadata": {},
   "outputs": [
    {
     "data": {
      "text/plain": [
       "np.float64(17.15)"
      ]
     },
     "execution_count": 133,
     "metadata": {},
     "output_type": "execute_result"
    }
   ],
   "source": [
    "df_final_2['Precio'].median() "
   ]
  },
  {
   "cell_type": "code",
   "execution_count": 154,
   "metadata": {},
   "outputs": [
    {
     "data": {
      "text/plain": [
       "np.float64(17.15)"
      ]
     },
     "execution_count": 154,
     "metadata": {},
     "output_type": "execute_result"
    }
   ],
   "source": [
    "# Cuartil 2\n",
    "Cuartil_1 = df_final_2['Precio'].quantile(0.5)\n",
    "Cuartil_1"
   ]
  },
  {
   "cell_type": "code",
   "execution_count": 155,
   "metadata": {},
   "outputs": [
    {
     "data": {
      "text/plain": [
       "np.float64(9.89)"
      ]
     },
     "execution_count": 155,
     "metadata": {},
     "output_type": "execute_result"
    }
   ],
   "source": [
    "# Cuartil 3\n",
    "Cuartil_2 = df_final_2['Precio'].quantile(0.25)\n",
    "Cuartil_2"
   ]
  },
  {
   "cell_type": "code",
   "execution_count": 156,
   "metadata": {},
   "outputs": [
    {
     "data": {
      "text/plain": [
       "np.float64(17.15)"
      ]
     },
     "execution_count": 156,
     "metadata": {},
     "output_type": "execute_result"
    }
   ],
   "source": [
    "Cuartil_3 = df_final_2['Precio'].quantile(0.50)\n",
    "Cuartil_3"
   ]
  },
  {
   "cell_type": "code",
   "execution_count": 159,
   "metadata": {},
   "outputs": [
    {
     "data": {
      "text/plain": [
       "np.float64(29.99)"
      ]
     },
     "execution_count": 159,
     "metadata": {},
     "output_type": "execute_result"
    }
   ],
   "source": [
    "# Cuartil 4\n",
    "Cuartil_4 = df_final_2['Precio'].quantile(0.75)\n",
    "Cuartil_4"
   ]
  },
  {
   "cell_type": "code",
   "execution_count": 161,
   "metadata": {},
   "outputs": [
    {
     "data": {
      "text/plain": [
       "np.float64(59.99)"
      ]
     },
     "execution_count": 161,
     "metadata": {},
     "output_type": "execute_result"
    }
   ],
   "source": [
    "Cuartil_5 = df_final_2['Precio'].quantile(1)\n",
    "Cuartil_5"
   ]
  },
  {
   "cell_type": "markdown",
   "metadata": {},
   "source": [
    "## Graficacion Boxplot"
   ]
  },
  {
   "cell_type": "markdown",
   "metadata": {},
   "source": [
    "Hacemos la graficacion en boxplot, en estos casos no todas las tablas pueden funcionar para nuestro dataset, hay unas tablas que no nos sirven para representar de mejor manera nuestros datos."
   ]
  },
  {
   "cell_type": "markdown",
   "metadata": {},
   "source": [
    "Importamos pandas, seaborn y matplotlib ya que estas son las extenciones que vamos a necesitar"
   ]
  },
  {
   "cell_type": "code",
   "execution_count": 149,
   "metadata": {},
   "outputs": [],
   "source": [
    "import pandas as pd\n",
    "import seaborn as sns\n",
    "import matplotlib.pyplot as plt"
   ]
  },
  {
   "cell_type": "code",
   "execution_count": 163,
   "metadata": {},
   "outputs": [
    {
     "data": {
      "text/html": [
       "<div>\n",
       "<style scoped>\n",
       "    .dataframe tbody tr th:only-of-type {\n",
       "        vertical-align: middle;\n",
       "    }\n",
       "\n",
       "    .dataframe tbody tr th {\n",
       "        vertical-align: top;\n",
       "    }\n",
       "\n",
       "    .dataframe thead th {\n",
       "        text-align: right;\n",
       "    }\n",
       "</style>\n",
       "<table border=\"1\" class=\"dataframe\">\n",
       "  <thead>\n",
       "    <tr style=\"text-align: right;\">\n",
       "      <th></th>\n",
       "      <th>Titulo</th>\n",
       "      <th>Precio</th>\n",
       "      <th>Porcentaje_Venta</th>\n",
       "      <th>Reviews_Recientes</th>\n",
       "      <th>Total_Reviews</th>\n",
       "    </tr>\n",
       "  </thead>\n",
       "  <tbody>\n",
       "    <tr>\n",
       "      <th>0</th>\n",
       "      <td>Ori and the Will of the Wisps</td>\n",
       "      <td>9.89</td>\n",
       "      <td>-67.0</td>\n",
       "      <td>Overwhelmingly Positive</td>\n",
       "      <td>Overwhelmingly Positive</td>\n",
       "    </tr>\n",
       "    <tr>\n",
       "      <th>1</th>\n",
       "      <td>Flashing Lights - Police, Firefighting, Emerge...</td>\n",
       "      <td>8.49</td>\n",
       "      <td>-66.0</td>\n",
       "      <td>Very Positive</td>\n",
       "      <td>Very Positive</td>\n",
       "    </tr>\n",
       "    <tr>\n",
       "      <th>2</th>\n",
       "      <td>Thronefall</td>\n",
       "      <td>5.24</td>\n",
       "      <td>-25.0</td>\n",
       "      <td>Overwhelmingly Positive</td>\n",
       "      <td>Overwhelmingly Positive</td>\n",
       "    </tr>\n",
       "    <tr>\n",
       "      <th>3</th>\n",
       "      <td>DRAGON QUEST® XI S: Echoes of an Elusive Age™ ...</td>\n",
       "      <td>23.99</td>\n",
       "      <td>-40.0</td>\n",
       "      <td>Very Positive</td>\n",
       "      <td>Very Positive</td>\n",
       "    </tr>\n",
       "    <tr>\n",
       "      <th>4</th>\n",
       "      <td>UNDYING</td>\n",
       "      <td>13.99</td>\n",
       "      <td>-30.0</td>\n",
       "      <td>Mostly Positive</td>\n",
       "      <td>Mostly Positive</td>\n",
       "    </tr>\n",
       "    <tr>\n",
       "      <th>...</th>\n",
       "      <td>...</td>\n",
       "      <td>...</td>\n",
       "      <td>...</td>\n",
       "      <td>...</td>\n",
       "      <td>...</td>\n",
       "    </tr>\n",
       "    <tr>\n",
       "      <th>81</th>\n",
       "      <td>Bendy and the Dark Revival</td>\n",
       "      <td>5.99</td>\n",
       "      <td>-80.0</td>\n",
       "      <td>Very Positive</td>\n",
       "      <td>Very Positive</td>\n",
       "    </tr>\n",
       "    <tr>\n",
       "      <th>82</th>\n",
       "      <td>STAR WARS™ - The Force Unleashed™ Ultimate Sit...</td>\n",
       "      <td>6.99</td>\n",
       "      <td>-65.0</td>\n",
       "      <td>Very Positive</td>\n",
       "      <td>Very Positive</td>\n",
       "    </tr>\n",
       "    <tr>\n",
       "      <th>83</th>\n",
       "      <td>Thymesia</td>\n",
       "      <td>14.99</td>\n",
       "      <td>-40.0</td>\n",
       "      <td>Very Positive</td>\n",
       "      <td>Very Positive</td>\n",
       "    </tr>\n",
       "    <tr>\n",
       "      <th>84</th>\n",
       "      <td>Last Train Home</td>\n",
       "      <td>26.39</td>\n",
       "      <td>-34.0</td>\n",
       "      <td>Very Positive</td>\n",
       "      <td>Very Positive</td>\n",
       "    </tr>\n",
       "    <tr>\n",
       "      <th>85</th>\n",
       "      <td>Fallout 76</td>\n",
       "      <td>9.99</td>\n",
       "      <td>-75.0</td>\n",
       "      <td>Mostly Positive</td>\n",
       "      <td>Mostly Positive</td>\n",
       "    </tr>\n",
       "  </tbody>\n",
       "</table>\n",
       "<p>86 rows × 5 columns</p>\n",
       "</div>"
      ],
      "text/plain": [
       "                                               Titulo  Precio  \\\n",
       "0                       Ori and the Will of the Wisps    9.89   \n",
       "1   Flashing Lights - Police, Firefighting, Emerge...    8.49   \n",
       "2                                          Thronefall    5.24   \n",
       "3   DRAGON QUEST® XI S: Echoes of an Elusive Age™ ...   23.99   \n",
       "4                                             UNDYING   13.99   \n",
       "..                                                ...     ...   \n",
       "81                         Bendy and the Dark Revival    5.99   \n",
       "82  STAR WARS™ - The Force Unleashed™ Ultimate Sit...    6.99   \n",
       "83                                           Thymesia   14.99   \n",
       "84                                    Last Train Home   26.39   \n",
       "85                                         Fallout 76    9.99   \n",
       "\n",
       "    Porcentaje_Venta        Reviews_Recientes            Total_Reviews  \n",
       "0              -67.0  Overwhelmingly Positive  Overwhelmingly Positive  \n",
       "1              -66.0            Very Positive            Very Positive  \n",
       "2              -25.0  Overwhelmingly Positive  Overwhelmingly Positive  \n",
       "3              -40.0            Very Positive            Very Positive  \n",
       "4              -30.0          Mostly Positive          Mostly Positive  \n",
       "..               ...                      ...                      ...  \n",
       "81             -80.0            Very Positive            Very Positive  \n",
       "82             -65.0            Very Positive            Very Positive  \n",
       "83             -40.0            Very Positive            Very Positive  \n",
       "84             -34.0            Very Positive            Very Positive  \n",
       "85             -75.0          Mostly Positive          Mostly Positive  \n",
       "\n",
       "[86 rows x 5 columns]"
      ]
     },
     "execution_count": 163,
     "metadata": {},
     "output_type": "execute_result"
    }
   ],
   "source": [
    "df_final_2"
   ]
  },
  {
   "cell_type": "markdown",
   "metadata": {},
   "source": [
    "En este apartado hicimos una tabla de pastel de la distribucion de reseñas de steam"
   ]
  },
  {
   "cell_type": "code",
   "execution_count": 182,
   "metadata": {},
   "outputs": [
    {
     "data": {
      "image/png": "[encoded data removed]",
      "text/plain": [
       "<Figure size 1000x700 with 1 Axes>"
      ]
     },
     "metadata": {},
     "output_type": "display_data"
    }
   ],
   "source": [
    "# Contar las ocurrencias de cada categoría en la columna 'total_reviews'\n",
    "conteo_reviews = df_final_2['Total_Reviews'].value_counts()\n",
    "\n",
    "# Crear el gráfico de pastel\n",
    "plt.figure(figsize=(10, 7))\n",
    "plt.pie(conteo_reviews, labels=conteo_reviews.index, autopct='%1.1f%%', startangle=140, colors=plt.cm.Paired(range(len(conteo_reviews))))\n",
    "\n",
    "# Añadir título\n",
    "plt.title('Distribución de Reseñas por Categoría')\n",
    "plt.show()"
   ]
  },
  {
   "cell_type": "markdown",
   "metadata": {},
   "source": [
    "## Graficacion para Precios\n"
   ]
  },
  {
   "cell_type": "markdown",
   "metadata": {},
   "source": [
    "Esta grafica la usamos para distribucion de precios utilizando la media, mediana y la moda para sacar los datos para la tabla"
   ]
  },
  {
   "cell_type": "code",
   "execution_count": 137,
   "metadata": {},
   "outputs": [],
   "source": [
    "import numpy as np\n",
    "import matplotlib.pyplot as plt\n",
    "import seaborn as sns"
   ]
  },
  {
   "cell_type": "markdown",
   "metadata": {},
   "source": [
    "En este apartado eliminaremos el simbolo % ya que nos causa problemas para graficar las tablas, usaremos de nuevo el str.replace para hacerlo:"
   ]
  },
  {
   "cell_type": "code",
   "execution_count": null,
   "metadata": {},
   "outputs": [],
   "source": [
    "df_final_2['price'] =df_final_2['price'].str.replace('%',' ')"
   ]
  },
  {
   "cell_type": "code",
   "execution_count": 138,
   "metadata": {},
   "outputs": [
    {
     "data": {
      "text/html": [
       "<div>\n",
       "<style scoped>\n",
       "    .dataframe tbody tr th:only-of-type {\n",
       "        vertical-align: middle;\n",
       "    }\n",
       "\n",
       "    .dataframe tbody tr th {\n",
       "        vertical-align: top;\n",
       "    }\n",
       "\n",
       "    .dataframe thead th {\n",
       "        text-align: right;\n",
       "    }\n",
       "</style>\n",
       "<table border=\"1\" class=\"dataframe\">\n",
       "  <thead>\n",
       "    <tr style=\"text-align: right;\">\n",
       "      <th></th>\n",
       "      <th>Titulo</th>\n",
       "      <th>Precio</th>\n",
       "      <th>Porcentaje_Venta</th>\n",
       "      <th>Reviews_Recientes</th>\n",
       "      <th>Total_Reviews</th>\n",
       "    </tr>\n",
       "  </thead>\n",
       "  <tbody>\n",
       "    <tr>\n",
       "      <th>0</th>\n",
       "      <td>Ori and the Will of the Wisps</td>\n",
       "      <td>9.89</td>\n",
       "      <td>-67%</td>\n",
       "      <td>Overwhelmingly Positive</td>\n",
       "      <td>Overwhelmingly Positive</td>\n",
       "    </tr>\n",
       "    <tr>\n",
       "      <th>1</th>\n",
       "      <td>Flashing Lights - Police, Firefighting, Emerge...</td>\n",
       "      <td>8.49</td>\n",
       "      <td>-66%</td>\n",
       "      <td>Very Positive</td>\n",
       "      <td>Very Positive</td>\n",
       "    </tr>\n",
       "    <tr>\n",
       "      <th>2</th>\n",
       "      <td>Thronefall</td>\n",
       "      <td>5.24</td>\n",
       "      <td>-25%</td>\n",
       "      <td>Overwhelmingly Positive</td>\n",
       "      <td>Overwhelmingly Positive</td>\n",
       "    </tr>\n",
       "    <tr>\n",
       "      <th>3</th>\n",
       "      <td>DRAGON QUEST® XI S: Echoes of an Elusive Age™ ...</td>\n",
       "      <td>23.99</td>\n",
       "      <td>-40%</td>\n",
       "      <td>Very Positive</td>\n",
       "      <td>Very Positive</td>\n",
       "    </tr>\n",
       "    <tr>\n",
       "      <th>4</th>\n",
       "      <td>UNDYING</td>\n",
       "      <td>13.99</td>\n",
       "      <td>-30%</td>\n",
       "      <td>Mostly Positive</td>\n",
       "      <td>Mostly Positive</td>\n",
       "    </tr>\n",
       "  </tbody>\n",
       "</table>\n",
       "</div>"
      ],
      "text/plain": [
       "                                              Titulo  Precio Porcentaje_Venta  \\\n",
       "0                      Ori and the Will of the Wisps    9.89             -67%   \n",
       "1  Flashing Lights - Police, Firefighting, Emerge...    8.49             -66%   \n",
       "2                                         Thronefall    5.24             -25%   \n",
       "3  DRAGON QUEST® XI S: Echoes of an Elusive Age™ ...   23.99             -40%   \n",
       "4                                            UNDYING   13.99             -30%   \n",
       "\n",
       "         Reviews_Recientes            Total_Reviews  \n",
       "0  Overwhelmingly Positive  Overwhelmingly Positive  \n",
       "1            Very Positive            Very Positive  \n",
       "2  Overwhelmingly Positive  Overwhelmingly Positive  \n",
       "3            Very Positive            Very Positive  \n",
       "4          Mostly Positive          Mostly Positive  "
      ]
     },
     "execution_count": 138,
     "metadata": {},
     "output_type": "execute_result"
    }
   ],
   "source": [
    "df_final_2.head()"
   ]
  },
  {
   "cell_type": "code",
   "execution_count": 139,
   "metadata": {},
   "outputs": [
    {
     "data": {
      "text/plain": [
       "(86, 5)"
      ]
     },
     "execution_count": 139,
     "metadata": {},
     "output_type": "execute_result"
    }
   ],
   "source": [
    "df_final_2.shape"
   ]
  },
  {
   "cell_type": "code",
   "execution_count": 140,
   "metadata": {},
   "outputs": [
    {
     "data": {
      "text/plain": [
       "np.float64(20.500983606557377)"
      ]
     },
     "execution_count": 140,
     "metadata": {},
     "output_type": "execute_result"
    }
   ],
   "source": [
    "media_precio = df_final_2['Precio'].mean()\n",
    "media_precio"
   ]
  },
  {
   "cell_type": "code",
   "execution_count": 141,
   "metadata": {},
   "outputs": [
    {
     "data": {
      "text/plain": [
       "np.float64(17.15)"
      ]
     },
     "execution_count": 141,
     "metadata": {},
     "output_type": "execute_result"
    }
   ],
   "source": [
    "mediana_precio"
   ]
  },
  {
   "cell_type": "code",
   "execution_count": 142,
   "metadata": {},
   "outputs": [
    {
     "data": {
      "text/plain": [
       "0    23.99\n",
       "Name: Precio, dtype: float64"
      ]
     },
     "execution_count": 142,
     "metadata": {},
     "output_type": "execute_result"
    }
   ],
   "source": [
    "moda_precio"
   ]
  },
  {
   "cell_type": "markdown",
   "metadata": {},
   "source": [
    "En este apartado vemos como calcular la media, mediana y la moda y el codigo para añadir la tabla que necesitamos"
   ]
  },
  {
   "cell_type": "code",
   "execution_count": 143,
   "metadata": {},
   "outputs": [
    {
     "data": {
      "image/png": "[encoded data removed]",
      "text/plain": [
       "<Figure size 1000x500 with 1 Axes>"
      ]
     },
     "metadata": {},
     "output_type": "display_data"
    }
   ],
   "source": [
    "# Calcular media, mediana y moda\n",
    "media_precio = df_final_2['Precio'].mean()\n",
    "mediana_precio = df_final_2['Precio'].median()\n",
    "moda_precio = df_final_2['Precio'].mode()[0]\n",
    "\n",
    "plt.figure(figsize=(10, 5))\n",
    "sns.histplot(df_final_2['Precio'], bins=30, kde=True, color='g')\n",
    "\n",
    "# Añadir líneas para la media, mediana y moda\n",
    "plt.axvline(media_precio, color='r', linestyle='dashed', linewidth=2, label=f'Media: {media_precio:.2f}')\n",
    "plt.axvline(mediana_precio, color='b', linestyle='dashed', linewidth=2, label=f'Mediana: {mediana_precio:.2f}')\n",
    "plt.axvline(moda_precio, color='purple', linestyle='dashed', linewidth=2, label=f'Moda: {moda_precio:.2f}')\n",
    "\n",
    "# Añadir etiquetas y título\n",
    "plt.xlabel('Precios')\n",
    "plt.ylabel('Frecuencia')\n",
    "plt.title('Distribución de Precios con Media, Mediana y Moda')\n",
    "plt.legend()\n",
    "\n",
    "# Mostrar la gráfica\n",
    "plt.show()"
   ]
  },
  {
   "cell_type": "markdown",
   "metadata": {},
   "source": [
    "Ahora tenemos la tabla lista con los datos que mencionamos"
   ]
  },
  {
   "cell_type": "markdown",
   "metadata": {},
   "source": [
    "## Graficacion Para Porcentaje de Ventas"
   ]
  },
  {
   "cell_type": "markdown",
   "metadata": {},
   "source": [
    "En este apartado haremos otra tabla para los porcentaes de ventas de steam\n",
    "Usaremos numpy, matplotlib y seaborn para hacer la tabla y mas adelante veremos como realizamos esta tabla."
   ]
  },
  {
   "cell_type": "code",
   "execution_count": 144,
   "metadata": {},
   "outputs": [],
   "source": [
    "import numpy as np\n",
    "import matplotlib.pyplot as plt\n",
    "import seaborn as sns"
   ]
  },
  {
   "cell_type": "code",
   "execution_count": 147,
   "metadata": {},
   "outputs": [
    {
     "data": {
      "text/html": [
       "<div>\n",
       "<style scoped>\n",
       "    .dataframe tbody tr th:only-of-type {\n",
       "        vertical-align: middle;\n",
       "    }\n",
       "\n",
       "    .dataframe tbody tr th {\n",
       "        vertical-align: top;\n",
       "    }\n",
       "\n",
       "    .dataframe thead th {\n",
       "        text-align: right;\n",
       "    }\n",
       "</style>\n",
       "<table border=\"1\" class=\"dataframe\">\n",
       "  <thead>\n",
       "    <tr style=\"text-align: right;\">\n",
       "      <th></th>\n",
       "      <th>Titulo</th>\n",
       "      <th>Precio</th>\n",
       "      <th>Porcentaje_Venta</th>\n",
       "      <th>Reviews_Recientes</th>\n",
       "      <th>Total_Reviews</th>\n",
       "    </tr>\n",
       "  </thead>\n",
       "  <tbody>\n",
       "    <tr>\n",
       "      <th>0</th>\n",
       "      <td>Ori and the Will of the Wisps</td>\n",
       "      <td>9.89</td>\n",
       "      <td>-67.0</td>\n",
       "      <td>Overwhelmingly Positive</td>\n",
       "      <td>Overwhelmingly Positive</td>\n",
       "    </tr>\n",
       "    <tr>\n",
       "      <th>1</th>\n",
       "      <td>Flashing Lights - Police, Firefighting, Emerge...</td>\n",
       "      <td>8.49</td>\n",
       "      <td>-66.0</td>\n",
       "      <td>Very Positive</td>\n",
       "      <td>Very Positive</td>\n",
       "    </tr>\n",
       "    <tr>\n",
       "      <th>2</th>\n",
       "      <td>Thronefall</td>\n",
       "      <td>5.24</td>\n",
       "      <td>-25.0</td>\n",
       "      <td>Overwhelmingly Positive</td>\n",
       "      <td>Overwhelmingly Positive</td>\n",
       "    </tr>\n",
       "    <tr>\n",
       "      <th>3</th>\n",
       "      <td>DRAGON QUEST® XI S: Echoes of an Elusive Age™ ...</td>\n",
       "      <td>23.99</td>\n",
       "      <td>-40.0</td>\n",
       "      <td>Very Positive</td>\n",
       "      <td>Very Positive</td>\n",
       "    </tr>\n",
       "    <tr>\n",
       "      <th>4</th>\n",
       "      <td>UNDYING</td>\n",
       "      <td>13.99</td>\n",
       "      <td>-30.0</td>\n",
       "      <td>Mostly Positive</td>\n",
       "      <td>Mostly Positive</td>\n",
       "    </tr>\n",
       "    <tr>\n",
       "      <th>...</th>\n",
       "      <td>...</td>\n",
       "      <td>...</td>\n",
       "      <td>...</td>\n",
       "      <td>...</td>\n",
       "      <td>...</td>\n",
       "    </tr>\n",
       "    <tr>\n",
       "      <th>81</th>\n",
       "      <td>Bendy and the Dark Revival</td>\n",
       "      <td>5.99</td>\n",
       "      <td>-80.0</td>\n",
       "      <td>Very Positive</td>\n",
       "      <td>Very Positive</td>\n",
       "    </tr>\n",
       "    <tr>\n",
       "      <th>82</th>\n",
       "      <td>STAR WARS™ - The Force Unleashed™ Ultimate Sit...</td>\n",
       "      <td>6.99</td>\n",
       "      <td>-65.0</td>\n",
       "      <td>Very Positive</td>\n",
       "      <td>Very Positive</td>\n",
       "    </tr>\n",
       "    <tr>\n",
       "      <th>83</th>\n",
       "      <td>Thymesia</td>\n",
       "      <td>14.99</td>\n",
       "      <td>-40.0</td>\n",
       "      <td>Very Positive</td>\n",
       "      <td>Very Positive</td>\n",
       "    </tr>\n",
       "    <tr>\n",
       "      <th>84</th>\n",
       "      <td>Last Train Home</td>\n",
       "      <td>26.39</td>\n",
       "      <td>-34.0</td>\n",
       "      <td>Very Positive</td>\n",
       "      <td>Very Positive</td>\n",
       "    </tr>\n",
       "    <tr>\n",
       "      <th>85</th>\n",
       "      <td>Fallout 76</td>\n",
       "      <td>9.99</td>\n",
       "      <td>-75.0</td>\n",
       "      <td>Mostly Positive</td>\n",
       "      <td>Mostly Positive</td>\n",
       "    </tr>\n",
       "  </tbody>\n",
       "</table>\n",
       "<p>86 rows × 5 columns</p>\n",
       "</div>"
      ],
      "text/plain": [
       "                                               Titulo  Precio  \\\n",
       "0                       Ori and the Will of the Wisps    9.89   \n",
       "1   Flashing Lights - Police, Firefighting, Emerge...    8.49   \n",
       "2                                          Thronefall    5.24   \n",
       "3   DRAGON QUEST® XI S: Echoes of an Elusive Age™ ...   23.99   \n",
       "4                                             UNDYING   13.99   \n",
       "..                                                ...     ...   \n",
       "81                         Bendy and the Dark Revival    5.99   \n",
       "82  STAR WARS™ - The Force Unleashed™ Ultimate Sit...    6.99   \n",
       "83                                           Thymesia   14.99   \n",
       "84                                    Last Train Home   26.39   \n",
       "85                                         Fallout 76    9.99   \n",
       "\n",
       "    Porcentaje_Venta        Reviews_Recientes            Total_Reviews  \n",
       "0              -67.0  Overwhelmingly Positive  Overwhelmingly Positive  \n",
       "1              -66.0            Very Positive            Very Positive  \n",
       "2              -25.0  Overwhelmingly Positive  Overwhelmingly Positive  \n",
       "3              -40.0            Very Positive            Very Positive  \n",
       "4              -30.0          Mostly Positive          Mostly Positive  \n",
       "..               ...                      ...                      ...  \n",
       "81             -80.0            Very Positive            Very Positive  \n",
       "82             -65.0            Very Positive            Very Positive  \n",
       "83             -40.0            Very Positive            Very Positive  \n",
       "84             -34.0            Very Positive            Very Positive  \n",
       "85             -75.0          Mostly Positive          Mostly Positive  \n",
       "\n",
       "[86 rows x 5 columns]"
      ]
     },
     "execution_count": 147,
     "metadata": {},
     "output_type": "execute_result"
    }
   ],
   "source": [
    "df_final_2"
   ]
  },
  {
   "cell_type": "markdown",
   "metadata": {},
   "source": [
    "Aqui usamos media_ para sacar la media, mediana y moda del porcentaje de ventas de nuestro data set con esto dandonos los datos que necesitamos para la tabla."
   ]
  },
  {
   "cell_type": "code",
   "execution_count": 148,
   "metadata": {},
   "outputs": [],
   "source": [
    "media_PVenta = df_final_2['Porcentaje_Venta'].mean()\n",
    "mediana_PVenta = df_final_2['Porcentaje_Venta'].median()\n",
    "moda_PVenta = df_final_2['Porcentaje_Venta'].mode()[0]"
   ]
  },
  {
   "cell_type": "markdown",
   "metadata": {},
   "source": [
    "usamos un pequeño diccionario para mostrar la media, mediana y la moda en la tabla, y usando las variables que realizamos en la parte de arriba"
   ]
  },
  {
   "cell_type": "code",
   "execution_count": 85,
   "metadata": {},
   "outputs": [
    {
     "data": {
      "image/png": "[encoded data removed]",
      "text/plain": [
       "<Figure size 1000x600 with 1 Axes>"
      ]
     },
     "metadata": {},
     "output_type": "display_data"
    }
   ],
   "source": [
    "estadisticas = {\n",
    "    'estadística': ['Media', 'Mediana', 'Moda'],\n",
    "    'valor': [media_PVenta, mediana_PVenta, moda_PVenta]\n",
    "}\n",
    "df_final_2 = pd.DataFrame(estadisticas)\n",
    "\n",
    "plt.figure(figsize=(10, 6))\n",
    "plt.bar(df_final_2['estadística'], df_final_2['valor'], color=['purple', 'green', 'orange'])\n",
    "\n",
    "plt.xlabel('Estadística')\n",
    "plt.ylabel('Porcentaje de Venta')\n",
    "plt.title('Media, Mediana y Moda del Porcentaje de Venta')\n",
    "plt.show()"
   ]
  },
  {
   "cell_type": "markdown",
   "metadata": {},
   "source": [
    "Y aqui tenemos la tabla lista para interpretar de mejor manera!"
   ]
  }
 ],
 "metadata": {
  "kernelspec": {
   "display_name": "Python 3",
   "language": "python",
   "name": "python3"
  },
  "language_info": {
   "codemirror_mode": {
    "name": "ipython",
    "version": 3
   },
   "file_extension": ".py",
   "mimetype": "text/x-python",
   "name": "python",
   "nbconvert_exporter": "python",
   "pygments_lexer": "ipython3",
   "version": "3.12.4"
  }
 },
 "nbformat": 4,
 "nbformat_minor": 2
}
